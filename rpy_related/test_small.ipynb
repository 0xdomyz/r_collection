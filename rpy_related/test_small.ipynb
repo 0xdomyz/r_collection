{
 "cells": [
  {
   "cell_type": "code",
   "execution_count": null,
   "metadata": {},
   "outputs": [],
   "source": [
    "import rpy2.robjects as robjects\n",
    "\n",
    "# Define R script\n",
    "r_script = \"\"\"\n",
    "my_function <- function() {\n",
    "  return(\"Hello, this is R!\")\n",
    "}\n",
    "my_function()\n",
    "\"\"\"\n",
    "\n",
    "# Run R script\n",
    "r_func = robjects.r(r_script)\n",
    "result = r_func()\n",
    "\n",
    "# Print result\n",
    "print(result)"
   ]
  },
  {
   "cell_type": "code",
   "execution_count": null,
   "metadata": {},
   "outputs": [],
   "source": []
  }
 ],
 "metadata": {
  "kernelspec": {
   "display_name": "Python 3",
   "language": "python",
   "name": "python3"
  },
  "language_info": {
   "name": "python",
   "version": "3.12.1"
  }
 },
 "nbformat": 4,
 "nbformat_minor": 2
}
