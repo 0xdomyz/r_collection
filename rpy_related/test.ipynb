{
 "cells": [
  {
   "cell_type": "code",
   "execution_count": null,
   "metadata": {},
   "outputs": [],
   "source": [
    "import rpy2.robjects as robjects\n",
    "from rpy2.robjects.packages import importr\n"
   ]
  },
  {
   "cell_type": "code",
   "execution_count": null,
   "metadata": {},
   "outputs": [],
   "source": [
    "\n",
    "# Import R packages\n",
    "base = importr('base')\n",
    "stats = importr('stats')\n",
    "graphics = importr('graphics')\n",
    "grdevices = importr('grDevices')\n",
    "ggplot2 = importr('ggplot2')\n"
   ]
  },
  {
   "cell_type": "code",
   "execution_count": null,
   "metadata": {},
   "outputs": [],
   "source": [
    "\n",
    "# Load iris dataset\n",
    "iris = robjects.r('iris')\n"
   ]
  },
  {
   "cell_type": "code",
   "execution_count": null,
   "metadata": {},
   "outputs": [],
   "source": [
    "\n",
    "# Fit linear model\n",
    "lm_model = stats.lm('Sepal.Length ~ Sepal.Width', data=iris)\n"
   ]
  },
  {
   "cell_type": "code",
   "execution_count": null,
   "metadata": {},
   "outputs": [],
   "source": [
    "\n",
    "# Get predicted values\n",
    "predicted = stats.predict(lm_model)\n"
   ]
  },
  {
   "cell_type": "code",
   "execution_count": null,
   "metadata": {},
   "outputs": [],
   "source": [
    "\n",
    "# Add predicted values to iris dataframe\n",
    "iris = robjects.r['cbind'](iris, predicted)\n"
   ]
  },
  {
   "cell_type": "code",
   "execution_count": null,
   "metadata": {},
   "outputs": [],
   "source": [
    "\n",
    "# Plot actual vs predicted\n",
    "plot = ggplot2.ggplot(iris) + \\\n",
    "       ggplot2.aes_string(x='Sepal.Length', y='predicted') + \\\n",
    "       ggplot2.geom_point() + \\\n",
    "       ggplot2.geom_smooth(method='lm', color='red', se=False) + \\\n",
    "       ggplot2.labs(title=\"Actual vs Predicted\", x=\"Actual\", y=\"Predicted\")\n"
   ]
  },
  {
   "cell_type": "code",
   "execution_count": null,
   "metadata": {},
   "outputs": [],
   "source": [
    "\n",
    "# Print plot\n",
    "grdevices.png(file=\"lm_plot.png\", width=512, height=512)\n",
    "ggplot2.print_plot(plot)\n",
    "grdevices.dev_off()"
   ]
  }
 ],
 "metadata": {
  "language_info": {
   "name": "python"
  }
 },
 "nbformat": 4,
 "nbformat_minor": 2
}
