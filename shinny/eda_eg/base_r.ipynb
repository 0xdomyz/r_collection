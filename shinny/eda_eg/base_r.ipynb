{
 "cells": [
  {
   "cell_type": "markdown",
   "metadata": {
    "vscode": {
     "languageId": "r"
    }
   },
   "source": [
    "### Set up\n"
   ]
  },
  {
   "cell_type": "code",
   "execution_count": 18,
   "metadata": {
    "vscode": {
     "languageId": "r"
    }
   },
   "outputs": [],
   "source": [
    "library(shiny)\n",
    "library(vroom)\n",
    "library(tidyverse)"
   ]
  },
  {
   "cell_type": "code",
   "execution_count": null,
   "metadata": {
    "vscode": {
     "languageId": "r"
    }
   },
   "outputs": [],
   "source": [
    "\n",
    "dir.create(\"neiss\")\n",
    "#> Warning in dir.create(\"neiss\"): 'neiss' already exists\n",
    "download <- function(name) {\n",
    "  url <- \"https://raw.github.com/hadley/mastering-shiny/main/neiss/\"\n",
    "  download.file(paste0(url, name), paste0(\"neiss/\", name), quiet = TRUE)\n",
    "}\n",
    "download(\"injuries.tsv.gz\")\n",
    "download(\"population.tsv\")\n",
    "download(\"products.tsv\")"
   ]
  },
  {
   "cell_type": "code",
   "execution_count": 19,
   "metadata": {
    "vscode": {
     "languageId": "r"
    }
   },
   "outputs": [
    {
     "name": "stderr",
     "output_type": "stream",
     "text": [
      "\u001b[1mRows: \u001b[22m\u001b[34m255064\u001b[39m \u001b[1mColumns: \u001b[22m\u001b[34m10\u001b[39m\n",
      "\u001b[36m──\u001b[39m \u001b[1mColumn specification\u001b[22m \u001b[36m────────────────────────────────────────────────────────\u001b[39m\n",
      "\u001b[1mDelimiter:\u001b[22m \"\\t\"\n",
      "\u001b[31mchr\u001b[39m  (6): sex, race, body_part, diag, location, narrative\n",
      "\u001b[32mdbl\u001b[39m  (3): age, prod_code, weight\n",
      "\u001b[34mdate\u001b[39m (1): trmt_date\n",
      "\n",
      "\u001b[36mℹ\u001b[39m Use `spec()` to retrieve the full column specification for this data.\n",
      "\u001b[36mℹ\u001b[39m Specify the column types or set `show_col_types = FALSE` to quiet this message.\n"
     ]
    },
    {
     "data": {
      "text/html": [
       "<table class=\"dataframe\">\n",
       "<caption>A tibble: 6 × 10</caption>\n",
       "<thead>\n",
       "\t<tr><th scope=col>trmt_date</th><th scope=col>age</th><th scope=col>sex</th><th scope=col>race</th><th scope=col>body_part</th><th scope=col>diag</th><th scope=col>location</th><th scope=col>prod_code</th><th scope=col>weight</th><th scope=col>narrative</th></tr>\n",
       "\t<tr><th scope=col>&lt;date&gt;</th><th scope=col>&lt;dbl&gt;</th><th scope=col>&lt;chr&gt;</th><th scope=col>&lt;chr&gt;</th><th scope=col>&lt;chr&gt;</th><th scope=col>&lt;chr&gt;</th><th scope=col>&lt;chr&gt;</th><th scope=col>&lt;dbl&gt;</th><th scope=col>&lt;dbl&gt;</th><th scope=col>&lt;chr&gt;</th></tr>\n",
       "</thead>\n",
       "<tbody>\n",
       "\t<tr><td>2017-01-01</td><td>71</td><td>male</td><td>white</td><td>Upper Trunk</td><td>Contusion Or Abrasion</td><td>Other Public Property</td><td>1807</td><td>77.6641</td><td>71YOM FELL ON FLOOR IN BATHROOM. DX RIB CONTUSION                                                                          </td></tr>\n",
       "\t<tr><td>2017-01-01</td><td>16</td><td>male</td><td>white</td><td>Lower Arm  </td><td>Burns, Thermal       </td><td>Home                 </td><td> 676</td><td>77.6641</td><td>16YOM TRIPPED OVER A RUG AND FELL INTO A BURNING FIREPLACEDX BURNS INVOLVING LESS THAN 10% OF BODY SURFACE, FOREARM        </td></tr>\n",
       "\t<tr><td>2017-01-01</td><td>58</td><td>male</td><td>white</td><td>Upper Trunk</td><td>Contusion Or Abrasion</td><td>Home                 </td><td> 649</td><td>77.6641</td><td>58 YOM WENT TO BATHROOM;  LOST HIS BALANCE, FELL TO FLOOR HIT UPPER BACK ON TOILET. CONTUSION OF UPPER BACK.               </td></tr>\n",
       "\t<tr><td>2017-01-01</td><td>21</td><td>male</td><td>white</td><td>Lower Trunk</td><td>Strain, Sprain       </td><td>Home                 </td><td>4076</td><td>77.6641</td><td>21 YOM TURNED WRONG AS HE GOT OUT OF BED. TWISTED LOWER BACK. STRAIN, LOWER BACK. (ACUTE EXACERBATION OF LOW BACK DISORDER)</td></tr>\n",
       "\t<tr><td>2017-01-01</td><td>54</td><td>male</td><td>white</td><td>Head       </td><td>Inter Organ Injury   </td><td>Other Public Property</td><td>1807</td><td>77.6641</td><td>54 YOM WAS FOUND ON FLOOR OF NURSING HOME WHERE HE RESIDES; HAD FALLEN TO THE FLOOR. SUBDURAL HEMATOMA.                    </td></tr>\n",
       "\t<tr><td>2017-01-01</td><td>21</td><td>male</td><td>white</td><td>Hand       </td><td>Fracture             </td><td>Home                 </td><td>1884</td><td>77.6641</td><td>21 YOM HIT WALL IN ANGER;  HAD RESULTANT  PAIN OF  RT. HAND. .FX, RT. HAND                                                 </td></tr>\n",
       "</tbody>\n",
       "</table>\n"
      ],
      "text/latex": [
       "A tibble: 6 × 10\n",
       "\\begin{tabular}{llllllllll}\n",
       " trmt\\_date & age & sex & race & body\\_part & diag & location & prod\\_code & weight & narrative\\\\\n",
       " <date> & <dbl> & <chr> & <chr> & <chr> & <chr> & <chr> & <dbl> & <dbl> & <chr>\\\\\n",
       "\\hline\n",
       "\t 2017-01-01 & 71 & male & white & Upper Trunk & Contusion Or Abrasion & Other Public Property & 1807 & 77.6641 & 71YOM FELL ON FLOOR IN BATHROOM. DX RIB CONTUSION                                                                          \\\\\n",
       "\t 2017-01-01 & 16 & male & white & Lower Arm   & Burns, Thermal        & Home                  &  676 & 77.6641 & 16YOM TRIPPED OVER A RUG AND FELL INTO A BURNING FIREPLACEDX BURNS INVOLVING LESS THAN 10\\% OF BODY SURFACE, FOREARM        \\\\\n",
       "\t 2017-01-01 & 58 & male & white & Upper Trunk & Contusion Or Abrasion & Home                  &  649 & 77.6641 & 58 YOM WENT TO BATHROOM;  LOST HIS BALANCE, FELL TO FLOOR HIT UPPER BACK ON TOILET. CONTUSION OF UPPER BACK.               \\\\\n",
       "\t 2017-01-01 & 21 & male & white & Lower Trunk & Strain, Sprain        & Home                  & 4076 & 77.6641 & 21 YOM TURNED WRONG AS HE GOT OUT OF BED. TWISTED LOWER BACK. STRAIN, LOWER BACK. (ACUTE EXACERBATION OF LOW BACK DISORDER)\\\\\n",
       "\t 2017-01-01 & 54 & male & white & Head        & Inter Organ Injury    & Other Public Property & 1807 & 77.6641 & 54 YOM WAS FOUND ON FLOOR OF NURSING HOME WHERE HE RESIDES; HAD FALLEN TO THE FLOOR. SUBDURAL HEMATOMA.                    \\\\\n",
       "\t 2017-01-01 & 21 & male & white & Hand        & Fracture              & Home                  & 1884 & 77.6641 & 21 YOM HIT WALL IN ANGER;  HAD RESULTANT  PAIN OF  RT. HAND. .FX, RT. HAND                                                 \\\\\n",
       "\\end{tabular}\n"
      ],
      "text/markdown": [
       "\n",
       "A tibble: 6 × 10\n",
       "\n",
       "| trmt_date &lt;date&gt; | age &lt;dbl&gt; | sex &lt;chr&gt; | race &lt;chr&gt; | body_part &lt;chr&gt; | diag &lt;chr&gt; | location &lt;chr&gt; | prod_code &lt;dbl&gt; | weight &lt;dbl&gt; | narrative &lt;chr&gt; |\n",
       "|---|---|---|---|---|---|---|---|---|---|\n",
       "| 2017-01-01 | 71 | male | white | Upper Trunk | Contusion Or Abrasion | Other Public Property | 1807 | 77.6641 | 71YOM FELL ON FLOOR IN BATHROOM. DX RIB CONTUSION                                                                           |\n",
       "| 2017-01-01 | 16 | male | white | Lower Arm   | Burns, Thermal        | Home                  |  676 | 77.6641 | 16YOM TRIPPED OVER A RUG AND FELL INTO A BURNING FIREPLACEDX BURNS INVOLVING LESS THAN 10% OF BODY SURFACE, FOREARM         |\n",
       "| 2017-01-01 | 58 | male | white | Upper Trunk | Contusion Or Abrasion | Home                  |  649 | 77.6641 | 58 YOM WENT TO BATHROOM;  LOST HIS BALANCE, FELL TO FLOOR HIT UPPER BACK ON TOILET. CONTUSION OF UPPER BACK.                |\n",
       "| 2017-01-01 | 21 | male | white | Lower Trunk | Strain, Sprain        | Home                  | 4076 | 77.6641 | 21 YOM TURNED WRONG AS HE GOT OUT OF BED. TWISTED LOWER BACK. STRAIN, LOWER BACK. (ACUTE EXACERBATION OF LOW BACK DISORDER) |\n",
       "| 2017-01-01 | 54 | male | white | Head        | Inter Organ Injury    | Other Public Property | 1807 | 77.6641 | 54 YOM WAS FOUND ON FLOOR OF NURSING HOME WHERE HE RESIDES; HAD FALLEN TO THE FLOOR. SUBDURAL HEMATOMA.                     |\n",
       "| 2017-01-01 | 21 | male | white | Hand        | Fracture              | Home                  | 1884 | 77.6641 | 21 YOM HIT WALL IN ANGER;  HAD RESULTANT  PAIN OF  RT. HAND. .FX, RT. HAND                                                  |\n",
       "\n"
      ],
      "text/plain": [
       "  trmt_date  age sex  race  body_part   diag                 \n",
       "1 2017-01-01 71  male white Upper Trunk Contusion Or Abrasion\n",
       "2 2017-01-01 16  male white Lower Arm   Burns, Thermal       \n",
       "3 2017-01-01 58  male white Upper Trunk Contusion Or Abrasion\n",
       "4 2017-01-01 21  male white Lower Trunk Strain, Sprain       \n",
       "5 2017-01-01 54  male white Head        Inter Organ Injury   \n",
       "6 2017-01-01 21  male white Hand        Fracture             \n",
       "  location              prod_code weight \n",
       "1 Other Public Property 1807      77.6641\n",
       "2 Home                   676      77.6641\n",
       "3 Home                   649      77.6641\n",
       "4 Home                  4076      77.6641\n",
       "5 Other Public Property 1807      77.6641\n",
       "6 Home                  1884      77.6641\n",
       "  narrative                                                                                                                  \n",
       "1 71YOM FELL ON FLOOR IN BATHROOM. DX RIB CONTUSION                                                                          \n",
       "2 16YOM TRIPPED OVER A RUG AND FELL INTO A BURNING FIREPLACEDX BURNS INVOLVING LESS THAN 10% OF BODY SURFACE, FOREARM        \n",
       "3 58 YOM WENT TO BATHROOM;  LOST HIS BALANCE, FELL TO FLOOR HIT UPPER BACK ON TOILET. CONTUSION OF UPPER BACK.               \n",
       "4 21 YOM TURNED WRONG AS HE GOT OUT OF BED. TWISTED LOWER BACK. STRAIN, LOWER BACK. (ACUTE EXACERBATION OF LOW BACK DISORDER)\n",
       "5 54 YOM WAS FOUND ON FLOOR OF NURSING HOME WHERE HE RESIDES; HAD FALLEN TO THE FLOOR. SUBDURAL HEMATOMA.                    \n",
       "6 21 YOM HIT WALL IN ANGER;  HAD RESULTANT  PAIN OF  RT. HAND. .FX, RT. HAND                                                 "
      ]
     },
     "metadata": {},
     "output_type": "display_data"
    }
   ],
   "source": [
    "injuries <- vroom::vroom(\"neiss/injuries.tsv.gz\")\n",
    "head(injuries)"
   ]
  },
  {
   "cell_type": "code",
   "execution_count": 20,
   "metadata": {
    "vscode": {
     "languageId": "r"
    }
   },
   "outputs": [
    {
     "name": "stderr",
     "output_type": "stream",
     "text": [
      "\u001b[1mRows: \u001b[22m\u001b[34m38\u001b[39m \u001b[1mColumns: \u001b[22m\u001b[34m2\u001b[39m\n",
      "\u001b[36m──\u001b[39m \u001b[1mColumn specification\u001b[22m \u001b[36m────────────────────────────────────────────────────────\u001b[39m\n",
      "\u001b[1mDelimiter:\u001b[22m \"\\t\"\n",
      "\u001b[31mchr\u001b[39m (1): title\n",
      "\u001b[32mdbl\u001b[39m (1): prod_code\n"
     ]
    },
    {
     "name": "stderr",
     "output_type": "stream",
     "text": [
      "\n",
      "\u001b[36mℹ\u001b[39m Use `spec()` to retrieve the full column specification for this data.\n",
      "\u001b[36mℹ\u001b[39m Specify the column types or set `show_col_types = FALSE` to quiet this message.\n"
     ]
    },
    {
     "data": {
      "text/html": [
       "<table class=\"dataframe\">\n",
       "<caption>A tibble: 6 × 2</caption>\n",
       "<thead>\n",
       "\t<tr><th scope=col>prod_code</th><th scope=col>title</th></tr>\n",
       "\t<tr><th scope=col>&lt;dbl&gt;</th><th scope=col>&lt;chr&gt;</th></tr>\n",
       "</thead>\n",
       "<tbody>\n",
       "\t<tr><td>464</td><td>knives, not elsewhere classified </td></tr>\n",
       "\t<tr><td>474</td><td>tableware and accessories        </td></tr>\n",
       "\t<tr><td>604</td><td>desks, chests, bureaus or buffets</td></tr>\n",
       "\t<tr><td>611</td><td>bathtubs or showers              </td></tr>\n",
       "\t<tr><td>649</td><td>toilets                          </td></tr>\n",
       "\t<tr><td>676</td><td>rugs or carpets, not specified   </td></tr>\n",
       "</tbody>\n",
       "</table>\n"
      ],
      "text/latex": [
       "A tibble: 6 × 2\n",
       "\\begin{tabular}{ll}\n",
       " prod\\_code & title\\\\\n",
       " <dbl> & <chr>\\\\\n",
       "\\hline\n",
       "\t 464 & knives, not elsewhere classified \\\\\n",
       "\t 474 & tableware and accessories        \\\\\n",
       "\t 604 & desks, chests, bureaus or buffets\\\\\n",
       "\t 611 & bathtubs or showers              \\\\\n",
       "\t 649 & toilets                          \\\\\n",
       "\t 676 & rugs or carpets, not specified   \\\\\n",
       "\\end{tabular}\n"
      ],
      "text/markdown": [
       "\n",
       "A tibble: 6 × 2\n",
       "\n",
       "| prod_code &lt;dbl&gt; | title &lt;chr&gt; |\n",
       "|---|---|\n",
       "| 464 | knives, not elsewhere classified  |\n",
       "| 474 | tableware and accessories         |\n",
       "| 604 | desks, chests, bureaus or buffets |\n",
       "| 611 | bathtubs or showers               |\n",
       "| 649 | toilets                           |\n",
       "| 676 | rugs or carpets, not specified    |\n",
       "\n"
      ],
      "text/plain": [
       "  prod_code title                            \n",
       "1 464       knives, not elsewhere classified \n",
       "2 474       tableware and accessories        \n",
       "3 604       desks, chests, bureaus or buffets\n",
       "4 611       bathtubs or showers              \n",
       "5 649       toilets                          \n",
       "6 676       rugs or carpets, not specified   "
      ]
     },
     "metadata": {},
     "output_type": "display_data"
    }
   ],
   "source": [
    "products <- vroom::vroom(\"neiss/products.tsv\")\n",
    "head(products)"
   ]
  },
  {
   "cell_type": "code",
   "execution_count": 17,
   "metadata": {
    "vscode": {
     "languageId": "r"
    }
   },
   "outputs": [
    {
     "name": "stderr",
     "output_type": "stream",
     "text": [
      "\u001b[1mRows: \u001b[22m\u001b[34m170\u001b[39m \u001b[1mColumns: \u001b[22m\u001b[34m3\u001b[39m\n",
      "\u001b[36m──\u001b[39m \u001b[1mColumn specification\u001b[22m \u001b[36m────────────────────────────────────────────────────────\u001b[39m\n",
      "\u001b[1mDelimiter:\u001b[22m \"\\t\"\n",
      "\u001b[31mchr\u001b[39m (1): sex\n",
      "\u001b[32mdbl\u001b[39m (2): age, population\n",
      "\n",
      "\u001b[36mℹ\u001b[39m Use `spec()` to retrieve the full column specification for this data.\n",
      "\u001b[36mℹ\u001b[39m Specify the column types or set `show_col_types = FALSE` to quiet this message.\n"
     ]
    },
    {
     "data": {
      "text/html": [
       "<table class=\"dataframe\">\n",
       "<caption>A tibble: 6 × 3</caption>\n",
       "<thead>\n",
       "\t<tr><th scope=col>age</th><th scope=col>sex</th><th scope=col>population</th></tr>\n",
       "\t<tr><th scope=col>&lt;dbl&gt;</th><th scope=col>&lt;chr&gt;</th><th scope=col>&lt;dbl&gt;</th></tr>\n",
       "</thead>\n",
       "<tbody>\n",
       "\t<tr><td>0</td><td>female</td><td>1924145</td></tr>\n",
       "\t<tr><td>0</td><td>male  </td><td>2015150</td></tr>\n",
       "\t<tr><td>1</td><td>female</td><td>1943534</td></tr>\n",
       "\t<tr><td>1</td><td>male  </td><td>2031718</td></tr>\n",
       "\t<tr><td>2</td><td>female</td><td>1965150</td></tr>\n",
       "\t<tr><td>2</td><td>male  </td><td>2056625</td></tr>\n",
       "</tbody>\n",
       "</table>\n"
      ],
      "text/latex": [
       "A tibble: 6 × 3\n",
       "\\begin{tabular}{lll}\n",
       " age & sex & population\\\\\n",
       " <dbl> & <chr> & <dbl>\\\\\n",
       "\\hline\n",
       "\t 0 & female & 1924145\\\\\n",
       "\t 0 & male   & 2015150\\\\\n",
       "\t 1 & female & 1943534\\\\\n",
       "\t 1 & male   & 2031718\\\\\n",
       "\t 2 & female & 1965150\\\\\n",
       "\t 2 & male   & 2056625\\\\\n",
       "\\end{tabular}\n"
      ],
      "text/markdown": [
       "\n",
       "A tibble: 6 × 3\n",
       "\n",
       "| age &lt;dbl&gt; | sex &lt;chr&gt; | population &lt;dbl&gt; |\n",
       "|---|---|---|\n",
       "| 0 | female | 1924145 |\n",
       "| 0 | male   | 2015150 |\n",
       "| 1 | female | 1943534 |\n",
       "| 1 | male   | 2031718 |\n",
       "| 2 | female | 1965150 |\n",
       "| 2 | male   | 2056625 |\n",
       "\n"
      ],
      "text/plain": [
       "  age sex    population\n",
       "1 0   female 1924145   \n",
       "2 0   male   2015150   \n",
       "3 1   female 1943534   \n",
       "4 1   male   2031718   \n",
       "5 2   female 1965150   \n",
       "6 2   male   2056625   "
      ]
     },
     "metadata": {},
     "output_type": "display_data"
    }
   ],
   "source": [
    "\n",
    "population <- vroom::vroom(\"neiss/population.tsv\")\n",
    "head(population)"
   ]
  },
  {
   "cell_type": "markdown",
   "metadata": {
    "vscode": {
     "languageId": "r"
    }
   },
   "source": [
    "\n",
    "### input\n"
   ]
  },
  {
   "cell_type": "code",
   "execution_count": 34,
   "metadata": {
    "vscode": {
     "languageId": "r"
    }
   },
   "outputs": [
    {
     "data": {
      "text/html": [
       "<style>\n",
       ".list-inline {list-style: none; margin:0; padding: 0}\n",
       ".list-inline>li {display: inline-block}\n",
       ".list-inline>li:not(:last-child)::after {content: \"\\00b7\"; padding: 0 .5ex}\n",
       "</style>\n",
       "<ol class=list-inline><li>'knives, not elsewhere classified'</li><li>'tableware and accessories'</li><li>'desks, chests, bureaus or buffets'</li><li>'bathtubs or showers'</li><li>'toilets'</li><li>'rugs or carpets, not specified'</li><li>'sofas, couches, davenports, divans or st'</li><li>'containers, not specified'</li><li>'sports or recreational activity, n.e.c.'</li><li>'basketball (activity, apparel or equip.)'</li><li>'football (activity, apparel or equip.)'</li><li>'trampolines'</li><li>'slides or sliding boards'</li><li>'monkey bars or other playground climbing'</li><li>'soccer (activity, apparel or equip.)'</li><li>'skateboards'</li><li>'footwear'</li><li>'jewelry'</li><li>'floors or flooring materials'</li><li>'porches, balconies, open-side floors or'</li><li>'nails, screws, tacks or bolts'</li><li>'stairs or steps'</li><li>'fences or fence posts'</li><li>'ceilings and walls (part of completed st'</li><li>'doors, other or not specified'</li><li>'windows &amp; window glass, excl storm windo'</li><li>'weight lifting (activity, apparel or equ'</li><li>'swimming (activity, apparel or equipment'</li><li>'exercise (activity or apparel, w/o equip'</li><li>'furniture, not specified'</li><li>'cabinets, racks, room dividers and shelv'</li><li>'tables, not elsewhere classified'</li><li>'chairs, other or not specified'</li><li>'beds or bedframes, other or not spec'</li><li>'ladders, other or not specified'</li><li>'softball (activity, apparel or equipment'</li><li>'bicycles and accessories (excl mountain'</li><li>'baseball (activity, apparel or equipment'</li></ol>\n"
      ],
      "text/latex": [
       "\\begin{enumerate*}\n",
       "\\item 'knives, not elsewhere classified'\n",
       "\\item 'tableware and accessories'\n",
       "\\item 'desks, chests, bureaus or buffets'\n",
       "\\item 'bathtubs or showers'\n",
       "\\item 'toilets'\n",
       "\\item 'rugs or carpets, not specified'\n",
       "\\item 'sofas, couches, davenports, divans or st'\n",
       "\\item 'containers, not specified'\n",
       "\\item 'sports or recreational activity, n.e.c.'\n",
       "\\item 'basketball (activity, apparel or equip.)'\n",
       "\\item 'football (activity, apparel or equip.)'\n",
       "\\item 'trampolines'\n",
       "\\item 'slides or sliding boards'\n",
       "\\item 'monkey bars or other playground climbing'\n",
       "\\item 'soccer (activity, apparel or equip.)'\n",
       "\\item 'skateboards'\n",
       "\\item 'footwear'\n",
       "\\item 'jewelry'\n",
       "\\item 'floors or flooring materials'\n",
       "\\item 'porches, balconies, open-side floors or'\n",
       "\\item 'nails, screws, tacks or bolts'\n",
       "\\item 'stairs or steps'\n",
       "\\item 'fences or fence posts'\n",
       "\\item 'ceilings and walls (part of completed st'\n",
       "\\item 'doors, other or not specified'\n",
       "\\item 'windows \\& window glass, excl storm windo'\n",
       "\\item 'weight lifting (activity, apparel or equ'\n",
       "\\item 'swimming (activity, apparel or equipment'\n",
       "\\item 'exercise (activity or apparel, w/o equip'\n",
       "\\item 'furniture, not specified'\n",
       "\\item 'cabinets, racks, room dividers and shelv'\n",
       "\\item 'tables, not elsewhere classified'\n",
       "\\item 'chairs, other or not specified'\n",
       "\\item 'beds or bedframes, other or not spec'\n",
       "\\item 'ladders, other or not specified'\n",
       "\\item 'softball (activity, apparel or equipment'\n",
       "\\item 'bicycles and accessories (excl mountain'\n",
       "\\item 'baseball (activity, apparel or equipment'\n",
       "\\end{enumerate*}\n"
      ],
      "text/markdown": [
       "1. 'knives, not elsewhere classified'\n",
       "2. 'tableware and accessories'\n",
       "3. 'desks, chests, bureaus or buffets'\n",
       "4. 'bathtubs or showers'\n",
       "5. 'toilets'\n",
       "6. 'rugs or carpets, not specified'\n",
       "7. 'sofas, couches, davenports, divans or st'\n",
       "8. 'containers, not specified'\n",
       "9. 'sports or recreational activity, n.e.c.'\n",
       "10. 'basketball (activity, apparel or equip.)'\n",
       "11. 'football (activity, apparel or equip.)'\n",
       "12. 'trampolines'\n",
       "13. 'slides or sliding boards'\n",
       "14. 'monkey bars or other playground climbing'\n",
       "15. 'soccer (activity, apparel or equip.)'\n",
       "16. 'skateboards'\n",
       "17. 'footwear'\n",
       "18. 'jewelry'\n",
       "19. 'floors or flooring materials'\n",
       "20. 'porches, balconies, open-side floors or'\n",
       "21. 'nails, screws, tacks or bolts'\n",
       "22. 'stairs or steps'\n",
       "23. 'fences or fence posts'\n",
       "24. 'ceilings and walls (part of completed st'\n",
       "25. 'doors, other or not specified'\n",
       "26. 'windows &amp; window glass, excl storm windo'\n",
       "27. 'weight lifting (activity, apparel or equ'\n",
       "28. 'swimming (activity, apparel or equipment'\n",
       "29. 'exercise (activity or apparel, w/o equip'\n",
       "30. 'furniture, not specified'\n",
       "31. 'cabinets, racks, room dividers and shelv'\n",
       "32. 'tables, not elsewhere classified'\n",
       "33. 'chairs, other or not specified'\n",
       "34. 'beds or bedframes, other or not spec'\n",
       "35. 'ladders, other or not specified'\n",
       "36. 'softball (activity, apparel or equipment'\n",
       "37. 'bicycles and accessories (excl mountain'\n",
       "38. 'baseball (activity, apparel or equipment'\n",
       "\n",
       "\n"
      ],
      "text/plain": [
       " [1] \"knives, not elsewhere classified\"        \n",
       " [2] \"tableware and accessories\"               \n",
       " [3] \"desks, chests, bureaus or buffets\"       \n",
       " [4] \"bathtubs or showers\"                     \n",
       " [5] \"toilets\"                                 \n",
       " [6] \"rugs or carpets, not specified\"          \n",
       " [7] \"sofas, couches, davenports, divans or st\"\n",
       " [8] \"containers, not specified\"               \n",
       " [9] \"sports or recreational activity, n.e.c.\" \n",
       "[10] \"basketball (activity, apparel or equip.)\"\n",
       "[11] \"football (activity, apparel or equip.)\"  \n",
       "[12] \"trampolines\"                             \n",
       "[13] \"slides or sliding boards\"                \n",
       "[14] \"monkey bars or other playground climbing\"\n",
       "[15] \"soccer (activity, apparel or equip.)\"    \n",
       "[16] \"skateboards\"                             \n",
       "[17] \"footwear\"                                \n",
       "[18] \"jewelry\"                                 \n",
       "[19] \"floors or flooring materials\"            \n",
       "[20] \"porches, balconies, open-side floors or\" \n",
       "[21] \"nails, screws, tacks or bolts\"           \n",
       "[22] \"stairs or steps\"                         \n",
       "[23] \"fences or fence posts\"                   \n",
       "[24] \"ceilings and walls (part of completed st\"\n",
       "[25] \"doors, other or not specified\"           \n",
       "[26] \"windows & window glass, excl storm windo\"\n",
       "[27] \"weight lifting (activity, apparel or equ\"\n",
       "[28] \"swimming (activity, apparel or equipment\"\n",
       "[29] \"exercise (activity or apparel, w/o equip\"\n",
       "[30] \"furniture, not specified\"                \n",
       "[31] \"cabinets, racks, room dividers and shelv\"\n",
       "[32] \"tables, not elsewhere classified\"        \n",
       "[33] \"chairs, other or not specified\"          \n",
       "[34] \"beds or bedframes, other or not spec\"    \n",
       "[35] \"ladders, other or not specified\"         \n",
       "[36] \"softball (activity, apparel or equipment\"\n",
       "[37] \"bicycles and accessories (excl mountain\" \n",
       "[38] \"baseball (activity, apparel or equipment\""
      ]
     },
     "metadata": {},
     "output_type": "display_data"
    }
   ],
   "source": [
    "products$title"
   ]
  },
  {
   "cell_type": "code",
   "execution_count": 31,
   "metadata": {
    "vscode": {
     "languageId": "r"
    }
   },
   "outputs": [],
   "source": [
    "product = \"tables, not elsewhere classified\""
   ]
  },
  {
   "cell_type": "code",
   "execution_count": 33,
   "metadata": {
    "vscode": {
     "languageId": "r"
    }
   },
   "outputs": [
    {
     "data": {
      "text/html": [
       "4057"
      ],
      "text/latex": [
       "4057"
      ],
      "text/markdown": [
       "4057"
      ],
      "text/plain": [
       "[1] 4057"
      ]
     },
     "metadata": {},
     "output_type": "display_data"
    }
   ],
   "source": [
    "prod_code = products[products$title == product,\"prod_code\"] %>% as.numeric()\n",
    "prod_code"
   ]
  },
  {
   "cell_type": "markdown",
   "metadata": {
    "vscode": {
     "languageId": "r"
    }
   },
   "source": [
    "### process & results"
   ]
  },
  {
   "cell_type": "code",
   "execution_count": 35,
   "metadata": {
    "vscode": {
     "languageId": "r"
    }
   },
   "outputs": [
    {
     "data": {
      "text/html": [
       "7712"
      ],
      "text/latex": [
       "7712"
      ],
      "text/markdown": [
       "7712"
      ],
      "text/plain": [
       "[1] 7712"
      ]
     },
     "metadata": {},
     "output_type": "display_data"
    }
   ],
   "source": [
    "selected <- injuries %>% filter(prod_code == {{prod_code}})\n",
    "nrow(selected)"
   ]
  },
  {
   "cell_type": "code",
   "execution_count": 36,
   "metadata": {
    "vscode": {
     "languageId": "r"
    }
   },
   "outputs": [
    {
     "data": {
      "text/html": [
       "<table class=\"dataframe\">\n",
       "<caption>A spec_tbl_df: 8 × 2</caption>\n",
       "<thead>\n",
       "\t<tr><th scope=col>location</th><th scope=col>n</th></tr>\n",
       "\t<tr><th scope=col>&lt;chr&gt;</th><th scope=col>&lt;dbl&gt;</th></tr>\n",
       "</thead>\n",
       "<tbody>\n",
       "\t<tr><td>Home                      </td><td>189305.0388</td></tr>\n",
       "\t<tr><td>Unknown                   </td><td> 52073.8667</td></tr>\n",
       "\t<tr><td>Other Public Property     </td><td> 17626.1720</td></tr>\n",
       "\t<tr><td>School                    </td><td>  9651.6848</td></tr>\n",
       "\t<tr><td>Sports Or Recreation Place</td><td>  2047.0008</td></tr>\n",
       "\t<tr><td>Street Or Highway         </td><td>   304.7292</td></tr>\n",
       "\t<tr><td>Farm                      </td><td>    16.1828</td></tr>\n",
       "\t<tr><td>Mobile Home               </td><td>     4.7570</td></tr>\n",
       "</tbody>\n",
       "</table>\n"
      ],
      "text/latex": [
       "A spec\\_tbl\\_df: 8 × 2\n",
       "\\begin{tabular}{ll}\n",
       " location & n\\\\\n",
       " <chr> & <dbl>\\\\\n",
       "\\hline\n",
       "\t Home                       & 189305.0388\\\\\n",
       "\t Unknown                    &  52073.8667\\\\\n",
       "\t Other Public Property      &  17626.1720\\\\\n",
       "\t School                     &   9651.6848\\\\\n",
       "\t Sports Or Recreation Place &   2047.0008\\\\\n",
       "\t Street Or Highway          &    304.7292\\\\\n",
       "\t Farm                       &     16.1828\\\\\n",
       "\t Mobile Home                &      4.7570\\\\\n",
       "\\end{tabular}\n"
      ],
      "text/markdown": [
       "\n",
       "A spec_tbl_df: 8 × 2\n",
       "\n",
       "| location &lt;chr&gt; | n &lt;dbl&gt; |\n",
       "|---|---|\n",
       "| Home                       | 189305.0388 |\n",
       "| Unknown                    |  52073.8667 |\n",
       "| Other Public Property      |  17626.1720 |\n",
       "| School                     |   9651.6848 |\n",
       "| Sports Or Recreation Place |   2047.0008 |\n",
       "| Street Or Highway          |    304.7292 |\n",
       "| Farm                       |     16.1828 |\n",
       "| Mobile Home                |      4.7570 |\n",
       "\n"
      ],
      "text/plain": [
       "  location                   n          \n",
       "1 Home                       189305.0388\n",
       "2 Unknown                     52073.8667\n",
       "3 Other Public Property       17626.1720\n",
       "4 School                       9651.6848\n",
       "5 Sports Or Recreation Place   2047.0008\n",
       "6 Street Or Highway             304.7292\n",
       "7 Farm                           16.1828\n",
       "8 Mobile Home                     4.7570"
      ]
     },
     "metadata": {},
     "output_type": "display_data"
    }
   ],
   "source": [
    "selected %>% count(location, wt = weight, sort = TRUE)"
   ]
  },
  {
   "cell_type": "code",
   "execution_count": 37,
   "metadata": {
    "vscode": {
     "languageId": "r"
    }
   },
   "outputs": [
    {
     "data": {
      "text/html": [
       "<table class=\"dataframe\">\n",
       "<caption>A spec_tbl_df: 25 × 2</caption>\n",
       "<thead>\n",
       "\t<tr><th scope=col>body_part</th><th scope=col>n</th></tr>\n",
       "\t<tr><th scope=col>&lt;chr&gt;</th><th scope=col>&lt;dbl&gt;</th></tr>\n",
       "</thead>\n",
       "<tbody>\n",
       "\t<tr><td>Head        </td><td>70423.9628</td></tr>\n",
       "\t<tr><td>Face        </td><td>59505.3961</td></tr>\n",
       "\t<tr><td>Upper Trunk </td><td>18919.9368</td></tr>\n",
       "\t<tr><td>Mouth       </td><td>13889.8137</td></tr>\n",
       "\t<tr><td>Lower Trunk </td><td>13816.5056</td></tr>\n",
       "\t<tr><td>Toe         </td><td>11480.8884</td></tr>\n",
       "\t<tr><td>Foot        </td><td>11063.4985</td></tr>\n",
       "\t<tr><td>Hand        </td><td>10099.0800</td></tr>\n",
       "\t<tr><td>Lower Leg   </td><td> 9118.8064</td></tr>\n",
       "\t<tr><td>Finger      </td><td> 7585.2389</td></tr>\n",
       "\t<tr><td>Knee        </td><td> 7378.9630</td></tr>\n",
       "\t<tr><td>Lower Arm   </td><td> 5284.9960</td></tr>\n",
       "\t<tr><td>Shoulder    </td><td> 4537.1456</td></tr>\n",
       "\t<tr><td>Elbow       </td><td> 4480.5538</td></tr>\n",
       "\t<tr><td>Ear         </td><td> 4172.4548</td></tr>\n",
       "\t<tr><td>Wrist       </td><td> 3947.0211</td></tr>\n",
       "\t<tr><td>Ankle       </td><td> 3672.4658</td></tr>\n",
       "\t<tr><td>Neck        </td><td> 2839.2538</td></tr>\n",
       "\t<tr><td>Upper Leg   </td><td> 2282.1985</td></tr>\n",
       "\t<tr><td>Upper Arm   </td><td> 2237.7548</td></tr>\n",
       "\t<tr><td>N.S./Unk    </td><td> 1498.4605</td></tr>\n",
       "\t<tr><td>All Of Body </td><td> 1459.2031</td></tr>\n",
       "\t<tr><td>Eyeball     </td><td>  972.3128</td></tr>\n",
       "\t<tr><td>Pubic Region</td><td>  358.7643</td></tr>\n",
       "\t<tr><td>Internal    </td><td>    4.7570</td></tr>\n",
       "</tbody>\n",
       "</table>\n"
      ],
      "text/latex": [
       "A spec\\_tbl\\_df: 25 × 2\n",
       "\\begin{tabular}{ll}\n",
       " body\\_part & n\\\\\n",
       " <chr> & <dbl>\\\\\n",
       "\\hline\n",
       "\t Head         & 70423.9628\\\\\n",
       "\t Face         & 59505.3961\\\\\n",
       "\t Upper Trunk  & 18919.9368\\\\\n",
       "\t Mouth        & 13889.8137\\\\\n",
       "\t Lower Trunk  & 13816.5056\\\\\n",
       "\t Toe          & 11480.8884\\\\\n",
       "\t Foot         & 11063.4985\\\\\n",
       "\t Hand         & 10099.0800\\\\\n",
       "\t Lower Leg    &  9118.8064\\\\\n",
       "\t Finger       &  7585.2389\\\\\n",
       "\t Knee         &  7378.9630\\\\\n",
       "\t Lower Arm    &  5284.9960\\\\\n",
       "\t Shoulder     &  4537.1456\\\\\n",
       "\t Elbow        &  4480.5538\\\\\n",
       "\t Ear          &  4172.4548\\\\\n",
       "\t Wrist        &  3947.0211\\\\\n",
       "\t Ankle        &  3672.4658\\\\\n",
       "\t Neck         &  2839.2538\\\\\n",
       "\t Upper Leg    &  2282.1985\\\\\n",
       "\t Upper Arm    &  2237.7548\\\\\n",
       "\t N.S./Unk     &  1498.4605\\\\\n",
       "\t All Of Body  &  1459.2031\\\\\n",
       "\t Eyeball      &   972.3128\\\\\n",
       "\t Pubic Region &   358.7643\\\\\n",
       "\t Internal     &     4.7570\\\\\n",
       "\\end{tabular}\n"
      ],
      "text/markdown": [
       "\n",
       "A spec_tbl_df: 25 × 2\n",
       "\n",
       "| body_part &lt;chr&gt; | n &lt;dbl&gt; |\n",
       "|---|---|\n",
       "| Head         | 70423.9628 |\n",
       "| Face         | 59505.3961 |\n",
       "| Upper Trunk  | 18919.9368 |\n",
       "| Mouth        | 13889.8137 |\n",
       "| Lower Trunk  | 13816.5056 |\n",
       "| Toe          | 11480.8884 |\n",
       "| Foot         | 11063.4985 |\n",
       "| Hand         | 10099.0800 |\n",
       "| Lower Leg    |  9118.8064 |\n",
       "| Finger       |  7585.2389 |\n",
       "| Knee         |  7378.9630 |\n",
       "| Lower Arm    |  5284.9960 |\n",
       "| Shoulder     |  4537.1456 |\n",
       "| Elbow        |  4480.5538 |\n",
       "| Ear          |  4172.4548 |\n",
       "| Wrist        |  3947.0211 |\n",
       "| Ankle        |  3672.4658 |\n",
       "| Neck         |  2839.2538 |\n",
       "| Upper Leg    |  2282.1985 |\n",
       "| Upper Arm    |  2237.7548 |\n",
       "| N.S./Unk     |  1498.4605 |\n",
       "| All Of Body  |  1459.2031 |\n",
       "| Eyeball      |   972.3128 |\n",
       "| Pubic Region |   358.7643 |\n",
       "| Internal     |     4.7570 |\n",
       "\n"
      ],
      "text/plain": [
       "   body_part    n         \n",
       "1  Head         70423.9628\n",
       "2  Face         59505.3961\n",
       "3  Upper Trunk  18919.9368\n",
       "4  Mouth        13889.8137\n",
       "5  Lower Trunk  13816.5056\n",
       "6  Toe          11480.8884\n",
       "7  Foot         11063.4985\n",
       "8  Hand         10099.0800\n",
       "9  Lower Leg     9118.8064\n",
       "10 Finger        7585.2389\n",
       "11 Knee          7378.9630\n",
       "12 Lower Arm     5284.9960\n",
       "13 Shoulder      4537.1456\n",
       "14 Elbow         4480.5538\n",
       "15 Ear           4172.4548\n",
       "16 Wrist         3947.0211\n",
       "17 Ankle         3672.4658\n",
       "18 Neck          2839.2538\n",
       "19 Upper Leg     2282.1985\n",
       "20 Upper Arm     2237.7548\n",
       "21 N.S./Unk      1498.4605\n",
       "22 All Of Body   1459.2031\n",
       "23 Eyeball        972.3128\n",
       "24 Pubic Region   358.7643\n",
       "25 Internal         4.7570"
      ]
     },
     "metadata": {},
     "output_type": "display_data"
    }
   ],
   "source": [
    "selected %>% count(body_part, wt = weight, sort = TRUE)"
   ]
  },
  {
   "cell_type": "code",
   "execution_count": 38,
   "metadata": {
    "vscode": {
     "languageId": "r"
    }
   },
   "outputs": [
    {
     "data": {
      "text/html": [
       "<table class=\"dataframe\">\n",
       "<caption>A spec_tbl_df: 23 × 2</caption>\n",
       "<thead>\n",
       "\t<tr><th scope=col>diag</th><th scope=col>n</th></tr>\n",
       "\t<tr><th scope=col>&lt;chr&gt;</th><th scope=col>&lt;dbl&gt;</th></tr>\n",
       "</thead>\n",
       "<tbody>\n",
       "\t<tr><td>Laceration           </td><td>94510.3959</td></tr>\n",
       "\t<tr><td>Contusion Or Abrasion</td><td>48864.9028</td></tr>\n",
       "\t<tr><td>Inter Organ Injury   </td><td>37798.0364</td></tr>\n",
       "\t<tr><td>Fracture             </td><td>30523.4670</td></tr>\n",
       "\t<tr><td>Other Or Not Stated  </td><td>26447.5591</td></tr>\n",
       "\t<tr><td>Strain, Sprain       </td><td>12033.5239</td></tr>\n",
       "\t<tr><td>Hematoma             </td><td> 5816.0777</td></tr>\n",
       "\t<tr><td>Concussion           </td><td> 3752.2033</td></tr>\n",
       "\t<tr><td>Avulsion             </td><td> 2670.9802</td></tr>\n",
       "\t<tr><td>Dental Injury        </td><td> 2163.8949</td></tr>\n",
       "\t<tr><td>Dislocation          </td><td> 1193.6666</td></tr>\n",
       "\t<tr><td>Crushing             </td><td>  944.6079</td></tr>\n",
       "\t<tr><td>Puncture             </td><td>  910.5477</td></tr>\n",
       "\t<tr><td>Burns, Scald         </td><td>  821.1145</td></tr>\n",
       "\t<tr><td>Nerve Damage         </td><td>  645.0512</td></tr>\n",
       "\t<tr><td>Foreign Body         </td><td>  558.7274</td></tr>\n",
       "\t<tr><td>Hemorrhage           </td><td>  502.2437</td></tr>\n",
       "\t<tr><td>Poisoning            </td><td>  464.3721</td></tr>\n",
       "\t<tr><td>Burns, Thermal       </td><td>  243.1862</td></tr>\n",
       "\t<tr><td>Dermat Or Conj       </td><td>   71.9669</td></tr>\n",
       "\t<tr><td>Anoxia               </td><td>   67.2099</td></tr>\n",
       "\t<tr><td>Amputation           </td><td>   20.9398</td></tr>\n",
       "\t<tr><td>Aspirated Object     </td><td>    4.7570</td></tr>\n",
       "</tbody>\n",
       "</table>\n"
      ],
      "text/latex": [
       "A spec\\_tbl\\_df: 23 × 2\n",
       "\\begin{tabular}{ll}\n",
       " diag & n\\\\\n",
       " <chr> & <dbl>\\\\\n",
       "\\hline\n",
       "\t Laceration            & 94510.3959\\\\\n",
       "\t Contusion Or Abrasion & 48864.9028\\\\\n",
       "\t Inter Organ Injury    & 37798.0364\\\\\n",
       "\t Fracture              & 30523.4670\\\\\n",
       "\t Other Or Not Stated   & 26447.5591\\\\\n",
       "\t Strain, Sprain        & 12033.5239\\\\\n",
       "\t Hematoma              &  5816.0777\\\\\n",
       "\t Concussion            &  3752.2033\\\\\n",
       "\t Avulsion              &  2670.9802\\\\\n",
       "\t Dental Injury         &  2163.8949\\\\\n",
       "\t Dislocation           &  1193.6666\\\\\n",
       "\t Crushing              &   944.6079\\\\\n",
       "\t Puncture              &   910.5477\\\\\n",
       "\t Burns, Scald          &   821.1145\\\\\n",
       "\t Nerve Damage          &   645.0512\\\\\n",
       "\t Foreign Body          &   558.7274\\\\\n",
       "\t Hemorrhage            &   502.2437\\\\\n",
       "\t Poisoning             &   464.3721\\\\\n",
       "\t Burns, Thermal        &   243.1862\\\\\n",
       "\t Dermat Or Conj        &    71.9669\\\\\n",
       "\t Anoxia                &    67.2099\\\\\n",
       "\t Amputation            &    20.9398\\\\\n",
       "\t Aspirated Object      &     4.7570\\\\\n",
       "\\end{tabular}\n"
      ],
      "text/markdown": [
       "\n",
       "A spec_tbl_df: 23 × 2\n",
       "\n",
       "| diag &lt;chr&gt; | n &lt;dbl&gt; |\n",
       "|---|---|\n",
       "| Laceration            | 94510.3959 |\n",
       "| Contusion Or Abrasion | 48864.9028 |\n",
       "| Inter Organ Injury    | 37798.0364 |\n",
       "| Fracture              | 30523.4670 |\n",
       "| Other Or Not Stated   | 26447.5591 |\n",
       "| Strain, Sprain        | 12033.5239 |\n",
       "| Hematoma              |  5816.0777 |\n",
       "| Concussion            |  3752.2033 |\n",
       "| Avulsion              |  2670.9802 |\n",
       "| Dental Injury         |  2163.8949 |\n",
       "| Dislocation           |  1193.6666 |\n",
       "| Crushing              |   944.6079 |\n",
       "| Puncture              |   910.5477 |\n",
       "| Burns, Scald          |   821.1145 |\n",
       "| Nerve Damage          |   645.0512 |\n",
       "| Foreign Body          |   558.7274 |\n",
       "| Hemorrhage            |   502.2437 |\n",
       "| Poisoning             |   464.3721 |\n",
       "| Burns, Thermal        |   243.1862 |\n",
       "| Dermat Or Conj        |    71.9669 |\n",
       "| Anoxia                |    67.2099 |\n",
       "| Amputation            |    20.9398 |\n",
       "| Aspirated Object      |     4.7570 |\n",
       "\n"
      ],
      "text/plain": [
       "   diag                  n         \n",
       "1  Laceration            94510.3959\n",
       "2  Contusion Or Abrasion 48864.9028\n",
       "3  Inter Organ Injury    37798.0364\n",
       "4  Fracture              30523.4670\n",
       "5  Other Or Not Stated   26447.5591\n",
       "6  Strain, Sprain        12033.5239\n",
       "7  Hematoma               5816.0777\n",
       "8  Concussion             3752.2033\n",
       "9  Avulsion               2670.9802\n",
       "10 Dental Injury          2163.8949\n",
       "11 Dislocation            1193.6666\n",
       "12 Crushing                944.6079\n",
       "13 Puncture                910.5477\n",
       "14 Burns, Scald            821.1145\n",
       "15 Nerve Damage            645.0512\n",
       "16 Foreign Body            558.7274\n",
       "17 Hemorrhage              502.2437\n",
       "18 Poisoning               464.3721\n",
       "19 Burns, Thermal          243.1862\n",
       "20 Dermat Or Conj           71.9669\n",
       "21 Anoxia                   67.2099\n",
       "22 Amputation               20.9398\n",
       "23 Aspirated Object          4.7570"
      ]
     },
     "metadata": {},
     "output_type": "display_data"
    }
   ],
   "source": [
    "selected %>% count(diag, wt = weight, sort = TRUE)"
   ]
  },
  {
   "cell_type": "code",
   "execution_count": 39,
   "metadata": {
    "vscode": {
     "languageId": "r"
    }
   },
   "outputs": [
    {
     "data": {
      "text/html": [
       "<table class=\"dataframe\">\n",
       "<caption>A tibble: 6 × 3</caption>\n",
       "<thead>\n",
       "\t<tr><th scope=col>age</th><th scope=col>sex</th><th scope=col>n</th></tr>\n",
       "\t<tr><th scope=col>&lt;dbl&gt;</th><th scope=col>&lt;chr&gt;</th><th scope=col>&lt;dbl&gt;</th></tr>\n",
       "</thead>\n",
       "<tbody>\n",
       "\t<tr><td>0</td><td>female</td><td> 2279.674</td></tr>\n",
       "\t<tr><td>0</td><td>male  </td><td> 3934.223</td></tr>\n",
       "\t<tr><td>1</td><td>female</td><td> 8225.368</td></tr>\n",
       "\t<tr><td>1</td><td>male  </td><td>14114.770</td></tr>\n",
       "\t<tr><td>2</td><td>female</td><td> 7622.759</td></tr>\n",
       "\t<tr><td>2</td><td>male  </td><td>13765.569</td></tr>\n",
       "</tbody>\n",
       "</table>\n"
      ],
      "text/latex": [
       "A tibble: 6 × 3\n",
       "\\begin{tabular}{lll}\n",
       " age & sex & n\\\\\n",
       " <dbl> & <chr> & <dbl>\\\\\n",
       "\\hline\n",
       "\t 0 & female &  2279.674\\\\\n",
       "\t 0 & male   &  3934.223\\\\\n",
       "\t 1 & female &  8225.368\\\\\n",
       "\t 1 & male   & 14114.770\\\\\n",
       "\t 2 & female &  7622.759\\\\\n",
       "\t 2 & male   & 13765.569\\\\\n",
       "\\end{tabular}\n"
      ],
      "text/markdown": [
       "\n",
       "A tibble: 6 × 3\n",
       "\n",
       "| age &lt;dbl&gt; | sex &lt;chr&gt; | n &lt;dbl&gt; |\n",
       "|---|---|---|\n",
       "| 0 | female |  2279.674 |\n",
       "| 0 | male   |  3934.223 |\n",
       "| 1 | female |  8225.368 |\n",
       "| 1 | male   | 14114.770 |\n",
       "| 2 | female |  7622.759 |\n",
       "| 2 | male   | 13765.569 |\n",
       "\n"
      ],
      "text/plain": [
       "  age sex    n        \n",
       "1 0   female  2279.674\n",
       "2 0   male    3934.223\n",
       "3 1   female  8225.368\n",
       "4 1   male   14114.770\n",
       "5 2   female  7622.759\n",
       "6 2   male   13765.569"
      ]
     },
     "metadata": {},
     "output_type": "display_data"
    }
   ],
   "source": [
    "summary <- selected %>% \n",
    "  count(age, sex, wt = weight)\n",
    "head(summary)"
   ]
  },
  {
   "cell_type": "code",
   "execution_count": 40,
   "metadata": {
    "vscode": {
     "languageId": "r"
    }
   },
   "outputs": [
    {
     "data": {
      "image/png": "[encoded data removed]",
      "text/plain": [
       "plot without title"
      ]
     },
     "metadata": {
      "image/png": {
       "height": 420,
       "width": 420
      }
     },
     "output_type": "display_data"
    }
   ],
   "source": [
    "summary %>% \n",
    "  ggplot(aes(age, n, colour = sex)) + \n",
    "  geom_line() + \n",
    "  labs(y = \"Estimated number of injuries\")\n"
   ]
  },
  {
   "cell_type": "code",
   "execution_count": 41,
   "metadata": {
    "vscode": {
     "languageId": "r"
    }
   },
   "outputs": [
    {
     "data": {
      "text/html": [
       "<table class=\"dataframe\">\n",
       "<caption>A tibble: 6 × 5</caption>\n",
       "<thead>\n",
       "\t<tr><th scope=col>age</th><th scope=col>sex</th><th scope=col>n</th><th scope=col>population</th><th scope=col>rate</th></tr>\n",
       "\t<tr><th scope=col>&lt;dbl&gt;</th><th scope=col>&lt;chr&gt;</th><th scope=col>&lt;dbl&gt;</th><th scope=col>&lt;dbl&gt;</th><th scope=col>&lt;dbl&gt;</th></tr>\n",
       "</thead>\n",
       "<tbody>\n",
       "\t<tr><td>0</td><td>female</td><td> 2279.674</td><td>1924145</td><td>11.84772</td></tr>\n",
       "\t<tr><td>0</td><td>male  </td><td> 3934.223</td><td>2015150</td><td>19.52323</td></tr>\n",
       "\t<tr><td>1</td><td>female</td><td> 8225.368</td><td>1943534</td><td>42.32171</td></tr>\n",
       "\t<tr><td>1</td><td>male  </td><td>14114.770</td><td>2031718</td><td>69.47209</td></tr>\n",
       "\t<tr><td>2</td><td>female</td><td> 7622.759</td><td>1965150</td><td>38.78971</td></tr>\n",
       "\t<tr><td>2</td><td>male  </td><td>13765.569</td><td>2056625</td><td>66.93281</td></tr>\n",
       "</tbody>\n",
       "</table>\n"
      ],
      "text/latex": [
       "A tibble: 6 × 5\n",
       "\\begin{tabular}{lllll}\n",
       " age & sex & n & population & rate\\\\\n",
       " <dbl> & <chr> & <dbl> & <dbl> & <dbl>\\\\\n",
       "\\hline\n",
       "\t 0 & female &  2279.674 & 1924145 & 11.84772\\\\\n",
       "\t 0 & male   &  3934.223 & 2015150 & 19.52323\\\\\n",
       "\t 1 & female &  8225.368 & 1943534 & 42.32171\\\\\n",
       "\t 1 & male   & 14114.770 & 2031718 & 69.47209\\\\\n",
       "\t 2 & female &  7622.759 & 1965150 & 38.78971\\\\\n",
       "\t 2 & male   & 13765.569 & 2056625 & 66.93281\\\\\n",
       "\\end{tabular}\n"
      ],
      "text/markdown": [
       "\n",
       "A tibble: 6 × 5\n",
       "\n",
       "| age &lt;dbl&gt; | sex &lt;chr&gt; | n &lt;dbl&gt; | population &lt;dbl&gt; | rate &lt;dbl&gt; |\n",
       "|---|---|---|---|---|\n",
       "| 0 | female |  2279.674 | 1924145 | 11.84772 |\n",
       "| 0 | male   |  3934.223 | 2015150 | 19.52323 |\n",
       "| 1 | female |  8225.368 | 1943534 | 42.32171 |\n",
       "| 1 | male   | 14114.770 | 2031718 | 69.47209 |\n",
       "| 2 | female |  7622.759 | 1965150 | 38.78971 |\n",
       "| 2 | male   | 13765.569 | 2056625 | 66.93281 |\n",
       "\n"
      ],
      "text/plain": [
       "  age sex    n         population rate    \n",
       "1 0   female  2279.674 1924145    11.84772\n",
       "2 0   male    3934.223 2015150    19.52323\n",
       "3 1   female  8225.368 1943534    42.32171\n",
       "4 1   male   14114.770 2031718    69.47209\n",
       "5 2   female  7622.759 1965150    38.78971\n",
       "6 2   male   13765.569 2056625    66.93281"
      ]
     },
     "metadata": {},
     "output_type": "display_data"
    }
   ],
   "source": [
    "summary <- selected %>% \n",
    "  count(age, sex, wt = weight) %>% \n",
    "  left_join(population, by = c(\"age\", \"sex\")) %>% \n",
    "  mutate(rate = n / population * 1e4)\n",
    "\n",
    "head(summary)"
   ]
  },
  {
   "cell_type": "code",
   "execution_count": 42,
   "metadata": {
    "vscode": {
     "languageId": "r"
    }
   },
   "outputs": [
    {
     "data": {
      "image/png": "[encoded data removed]",
      "text/plain": [
       "plot without title"
      ]
     },
     "metadata": {
      "image/png": {
       "height": 420,
       "width": 420
      }
     },
     "output_type": "display_data"
    }
   ],
   "source": [
    "summary %>% \n",
    "  ggplot(aes(age, rate, colour = sex)) + \n",
    "  geom_line(na.rm = TRUE) + \n",
    "  labs(y = \"Injuries per 10,000 people\")"
   ]
  }
 ],
 "metadata": {
  "kernelspec": {
   "display_name": "R",
   "language": "R",
   "name": "ir"
  },
  "language_info": {
   "codemirror_mode": "r",
   "file_extension": ".r",
   "mimetype": "text/x-r-source",
   "name": "R",
   "pygments_lexer": "r",
   "version": "4.3.2"
  }
 },
 "nbformat": 4,
 "nbformat_minor": 2
}
