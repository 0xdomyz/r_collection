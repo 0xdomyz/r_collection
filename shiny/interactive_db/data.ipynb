{
 "cells": [
  {
   "cell_type": "code",
   "execution_count": 1,
   "metadata": {
    "vscode": {
     "languageId": "r"
    }
   },
   "outputs": [
    {
     "name": "stderr",
     "output_type": "stream",
     "text": [
      "Warning message:\n",
      "\"package 'tidyverse' was built under R version 4.3.3\"\n",
      "── \u001b[1mAttaching core tidyverse packages\u001b[22m ──────────────────────── tidyverse 2.0.0 ──\n",
      "\u001b[32m✔\u001b[39m \u001b[34mdplyr    \u001b[39m 1.1.4     \u001b[32m✔\u001b[39m \u001b[34mreadr    \u001b[39m 2.1.5\n",
      "\u001b[32m✔\u001b[39m \u001b[34mforcats  \u001b[39m 1.0.0     \u001b[32m✔\u001b[39m \u001b[34mstringr  \u001b[39m 1.5.1\n",
      "\u001b[32m✔\u001b[39m \u001b[34mggplot2  \u001b[39m 3.4.4     \u001b[32m✔\u001b[39m \u001b[34mtibble   \u001b[39m 3.2.1\n",
      "\u001b[32m✔\u001b[39m \u001b[34mlubridate\u001b[39m 1.9.3     \u001b[32m✔\u001b[39m \u001b[34mtidyr    \u001b[39m 1.3.0\n",
      "\u001b[32m✔\u001b[39m \u001b[34mpurrr    \u001b[39m 1.0.2     \n",
      "── \u001b[1mConflicts\u001b[22m ────────────────────────────────────────── tidyverse_conflicts() ──\n",
      "\u001b[31m✖\u001b[39m \u001b[34mdplyr\u001b[39m::\u001b[32mfilter()\u001b[39m masks \u001b[34mstats\u001b[39m::filter()\n",
      "\u001b[31m✖\u001b[39m \u001b[34mdplyr\u001b[39m::\u001b[32mlag()\u001b[39m    masks \u001b[34mstats\u001b[39m::lag()\n",
      "\u001b[36mℹ\u001b[39m Use the conflicted package (\u001b[3m\u001b[34m<http://conflicted.r-lib.org/>\u001b[39m\u001b[23m) to force all conflicts to become errors\n"
     ]
    }
   ],
   "source": [
    "library(tidyverse)"
   ]
  },
  {
   "cell_type": "code",
   "execution_count": null,
   "metadata": {
    "vscode": {
     "languageId": "r"
    }
   },
   "outputs": [
    {
     "data": {
      "text/html": [
       "<table class=\"dataframe\">\n",
       "<caption>A data.frame: 6 × 40</caption>\n",
       "<thead>\n",
       "\t<tr><th></th><th scope=col>Customer.ID</th><th scope=col>First.Name</th><th scope=col>Last.Name</th><th scope=col>Age</th><th scope=col>Gender</th><th scope=col>Address</th><th scope=col>City</th><th scope=col>Contact.Number</th><th scope=col>Email</th><th scope=col>Account.Type</th><th scope=col>⋯</th><th scope=col>Minimum.Payment.Due</th><th scope=col>Payment.Due.Date</th><th scope=col>Last.Credit.Card.Payment.Date</th><th scope=col>Rewards.Points</th><th scope=col>Feedback.ID</th><th scope=col>Feedback.Date</th><th scope=col>Feedback.Type</th><th scope=col>Resolution.Status</th><th scope=col>Resolution.Date</th><th scope=col>Anomaly</th></tr>\n",
       "\t<tr><th></th><th scope=col>&lt;int&gt;</th><th scope=col>&lt;chr&gt;</th><th scope=col>&lt;chr&gt;</th><th scope=col>&lt;int&gt;</th><th scope=col>&lt;chr&gt;</th><th scope=col>&lt;chr&gt;</th><th scope=col>&lt;chr&gt;</th><th scope=col>&lt;dbl&gt;</th><th scope=col>&lt;chr&gt;</th><th scope=col>&lt;chr&gt;</th><th scope=col>⋯</th><th scope=col>&lt;dbl&gt;</th><th scope=col>&lt;chr&gt;</th><th scope=col>&lt;chr&gt;</th><th scope=col>&lt;int&gt;</th><th scope=col>&lt;int&gt;</th><th scope=col>&lt;chr&gt;</th><th scope=col>&lt;chr&gt;</th><th scope=col>&lt;chr&gt;</th><th scope=col>&lt;chr&gt;</th><th scope=col>&lt;int&gt;</th></tr>\n",
       "</thead>\n",
       "<tbody>\n",
       "\t<tr><th scope=row>1</th><td>1</td><td>Joshua </td><td>Hall   </td><td>45</td><td>Male  </td><td>Address_1</td><td>Fort Worth   </td><td>19458794854</td><td>joshua.hall@kag.com   </td><td>Current</td><td>⋯</td><td>226.22</td><td>11/26/2023</td><td>3/20/2023 </td><td>8142</td><td>1</td><td>10/6/2023</td><td>Suggestion</td><td>Resolved</td><td>1/22/2023 </td><td>1</td></tr>\n",
       "\t<tr><th scope=row>2</th><td>2</td><td>Mark   </td><td>Taylor </td><td>47</td><td>Female</td><td>Address_2</td><td>Louisville   </td><td>19458794855</td><td>mark.taylor@kag.com   </td><td>Current</td><td>⋯</td><td> 42.84</td><td>11/5/2023 </td><td>6/16/2023 </td><td>4306</td><td>2</td><td>4/7/2023 </td><td>Complaint </td><td>Resolved</td><td>8/27/2023 </td><td>1</td></tr>\n",
       "\t<tr><th scope=row>3</th><td>3</td><td>Joseph </td><td>Flores </td><td>25</td><td>Female</td><td>Address_3</td><td>Philadelphia </td><td>19458794856</td><td>joseph.flores@kag.com </td><td>Current</td><td>⋯</td><td>162.12</td><td>1/8/2023  </td><td>3/20/2023 </td><td>4842</td><td>3</td><td>9/7/2023 </td><td>Praise    </td><td>Pending </td><td>5/11/2023 </td><td>1</td></tr>\n",
       "\t<tr><th scope=row>4</th><td>4</td><td>Kevin  </td><td>Lee    </td><td>52</td><td>Other </td><td>Address_4</td><td>Oklahoma City</td><td>19458794857</td><td>kevin.lee@kag.com     </td><td>Savings</td><td>⋯</td><td>216.46</td><td>9/8/2023  </td><td>10/15/2023</td><td>9463</td><td>4</td><td>5/28/2023</td><td>Complaint </td><td>Resolved</td><td>7/5/2023  </td><td>1</td></tr>\n",
       "\t<tr><th scope=row>5</th><td>5</td><td>Linda  </td><td>Johnson</td><td>68</td><td>Other </td><td>Address_5</td><td>Phoenix      </td><td>19458794858</td><td>linda.johnson@kag.com </td><td>Savings</td><td>⋯</td><td>  1.29</td><td>3/4/2023  </td><td>7/27/2023 </td><td>2209</td><td>5</td><td>2/12/2023</td><td>Complaint </td><td>Resolved</td><td>11/21/2023</td><td>1</td></tr>\n",
       "\t<tr><th scope=row>6</th><td>6</td><td>Charles</td><td>Torres </td><td>52</td><td>Male  </td><td>Address_6</td><td>El Paso      </td><td>19458794859</td><td>charles.torres@kag.com</td><td>Savings</td><td>⋯</td><td> 66.59</td><td>5/13/2023 </td><td>11/16/2023</td><td> 478</td><td>6</td><td>8/6/2023 </td><td>Praise    </td><td>Resolved</td><td>7/23/2023 </td><td>1</td></tr>\n",
       "</tbody>\n",
       "</table>\n"
      ],
      "text/latex": [
       "A data.frame: 6 × 40\n",
       "\\begin{tabular}{r|lllllllllllllllllllll}\n",
       "  & Customer.ID & First.Name & Last.Name & Age & Gender & Address & City & Contact.Number & Email & Account.Type & ⋯ & Minimum.Payment.Due & Payment.Due.Date & Last.Credit.Card.Payment.Date & Rewards.Points & Feedback.ID & Feedback.Date & Feedback.Type & Resolution.Status & Resolution.Date & Anomaly\\\\\n",
       "  & <int> & <chr> & <chr> & <int> & <chr> & <chr> & <chr> & <dbl> & <chr> & <chr> & ⋯ & <dbl> & <chr> & <chr> & <int> & <int> & <chr> & <chr> & <chr> & <chr> & <int>\\\\\n",
       "\\hline\n",
       "\t1 & 1 & Joshua  & Hall    & 45 & Male   & Address\\_1 & Fort Worth    & 19458794854 & joshua.hall@kag.com    & Current & ⋯ & 226.22 & 11/26/2023 & 3/20/2023  & 8142 & 1 & 10/6/2023 & Suggestion & Resolved & 1/22/2023  & 1\\\\\n",
       "\t2 & 2 & Mark    & Taylor  & 47 & Female & Address\\_2 & Louisville    & 19458794855 & mark.taylor@kag.com    & Current & ⋯ &  42.84 & 11/5/2023  & 6/16/2023  & 4306 & 2 & 4/7/2023  & Complaint  & Resolved & 8/27/2023  & 1\\\\\n",
       "\t3 & 3 & Joseph  & Flores  & 25 & Female & Address\\_3 & Philadelphia  & 19458794856 & joseph.flores@kag.com  & Current & ⋯ & 162.12 & 1/8/2023   & 3/20/2023  & 4842 & 3 & 9/7/2023  & Praise     & Pending  & 5/11/2023  & 1\\\\\n",
       "\t4 & 4 & Kevin   & Lee     & 52 & Other  & Address\\_4 & Oklahoma City & 19458794857 & kevin.lee@kag.com      & Savings & ⋯ & 216.46 & 9/8/2023   & 10/15/2023 & 9463 & 4 & 5/28/2023 & Complaint  & Resolved & 7/5/2023   & 1\\\\\n",
       "\t5 & 5 & Linda   & Johnson & 68 & Other  & Address\\_5 & Phoenix       & 19458794858 & linda.johnson@kag.com  & Savings & ⋯ &   1.29 & 3/4/2023   & 7/27/2023  & 2209 & 5 & 2/12/2023 & Complaint  & Resolved & 11/21/2023 & 1\\\\\n",
       "\t6 & 6 & Charles & Torres  & 52 & Male   & Address\\_6 & El Paso       & 19458794859 & charles.torres@kag.com & Savings & ⋯ &  66.59 & 5/13/2023  & 11/16/2023 &  478 & 6 & 8/6/2023  & Praise     & Resolved & 7/23/2023  & 1\\\\\n",
       "\\end{tabular}\n"
      ],
      "text/markdown": [
       "\n",
       "A data.frame: 6 × 40\n",
       "\n",
       "| <!--/--> | Customer.ID &lt;int&gt; | First.Name &lt;chr&gt; | Last.Name &lt;chr&gt; | Age &lt;int&gt; | Gender &lt;chr&gt; | Address &lt;chr&gt; | City &lt;chr&gt; | Contact.Number &lt;dbl&gt; | Email &lt;chr&gt; | Account.Type &lt;chr&gt; | ⋯ ⋯ | Minimum.Payment.Due &lt;dbl&gt; | Payment.Due.Date &lt;chr&gt; | Last.Credit.Card.Payment.Date &lt;chr&gt; | Rewards.Points &lt;int&gt; | Feedback.ID &lt;int&gt; | Feedback.Date &lt;chr&gt; | Feedback.Type &lt;chr&gt; | Resolution.Status &lt;chr&gt; | Resolution.Date &lt;chr&gt; | Anomaly &lt;int&gt; |\n",
       "|---|---|---|---|---|---|---|---|---|---|---|---|---|---|---|---|---|---|---|---|---|---|\n",
       "| 1 | 1 | Joshua  | Hall    | 45 | Male   | Address_1 | Fort Worth    | 19458794854 | joshua.hall@kag.com    | Current | ⋯ | 226.22 | 11/26/2023 | 3/20/2023  | 8142 | 1 | 10/6/2023 | Suggestion | Resolved | 1/22/2023  | 1 |\n",
       "| 2 | 2 | Mark    | Taylor  | 47 | Female | Address_2 | Louisville    | 19458794855 | mark.taylor@kag.com    | Current | ⋯ |  42.84 | 11/5/2023  | 6/16/2023  | 4306 | 2 | 4/7/2023  | Complaint  | Resolved | 8/27/2023  | 1 |\n",
       "| 3 | 3 | Joseph  | Flores  | 25 | Female | Address_3 | Philadelphia  | 19458794856 | joseph.flores@kag.com  | Current | ⋯ | 162.12 | 1/8/2023   | 3/20/2023  | 4842 | 3 | 9/7/2023  | Praise     | Pending  | 5/11/2023  | 1 |\n",
       "| 4 | 4 | Kevin   | Lee     | 52 | Other  | Address_4 | Oklahoma City | 19458794857 | kevin.lee@kag.com      | Savings | ⋯ | 216.46 | 9/8/2023   | 10/15/2023 | 9463 | 4 | 5/28/2023 | Complaint  | Resolved | 7/5/2023   | 1 |\n",
       "| 5 | 5 | Linda   | Johnson | 68 | Other  | Address_5 | Phoenix       | 19458794858 | linda.johnson@kag.com  | Savings | ⋯ |   1.29 | 3/4/2023   | 7/27/2023  | 2209 | 5 | 2/12/2023 | Complaint  | Resolved | 11/21/2023 | 1 |\n",
       "| 6 | 6 | Charles | Torres  | 52 | Male   | Address_6 | El Paso       | 19458794859 | charles.torres@kag.com | Savings | ⋯ |  66.59 | 5/13/2023  | 11/16/2023 |  478 | 6 | 8/6/2023  | Praise     | Resolved | 7/23/2023  | 1 |\n",
       "\n"
      ],
      "text/plain": [
       "  Customer.ID First.Name Last.Name Age Gender Address   City         \n",
       "1 1           Joshua     Hall      45  Male   Address_1 Fort Worth   \n",
       "2 2           Mark       Taylor    47  Female Address_2 Louisville   \n",
       "3 3           Joseph     Flores    25  Female Address_3 Philadelphia \n",
       "4 4           Kevin      Lee       52  Other  Address_4 Oklahoma City\n",
       "5 5           Linda      Johnson   68  Other  Address_5 Phoenix      \n",
       "6 6           Charles    Torres    52  Male   Address_6 El Paso      \n",
       "  Contact.Number Email                  Account.Type ⋯ Minimum.Payment.Due\n",
       "1 19458794854    joshua.hall@kag.com    Current      ⋯ 226.22             \n",
       "2 19458794855    mark.taylor@kag.com    Current      ⋯  42.84             \n",
       "3 19458794856    joseph.flores@kag.com  Current      ⋯ 162.12             \n",
       "4 19458794857    kevin.lee@kag.com      Savings      ⋯ 216.46             \n",
       "5 19458794858    linda.johnson@kag.com  Savings      ⋯   1.29             \n",
       "6 19458794859    charles.torres@kag.com Savings      ⋯  66.59             \n",
       "  Payment.Due.Date Last.Credit.Card.Payment.Date Rewards.Points Feedback.ID\n",
       "1 11/26/2023       3/20/2023                     8142           1          \n",
       "2 11/5/2023        6/16/2023                     4306           2          \n",
       "3 1/8/2023         3/20/2023                     4842           3          \n",
       "4 9/8/2023         10/15/2023                    9463           4          \n",
       "5 3/4/2023         7/27/2023                     2209           5          \n",
       "6 5/13/2023        11/16/2023                     478           6          \n",
       "  Feedback.Date Feedback.Type Resolution.Status Resolution.Date Anomaly\n",
       "1 10/6/2023     Suggestion    Resolved          1/22/2023       1      \n",
       "2 4/7/2023      Complaint     Resolved          8/27/2023       1      \n",
       "3 9/7/2023      Praise        Pending           5/11/2023       1      \n",
       "4 5/28/2023     Complaint     Resolved          7/5/2023        1      \n",
       "5 2/12/2023     Complaint     Resolved          11/21/2023      1      \n",
       "6 8/6/2023      Praise        Resolved          7/23/2023       1      "
      ]
     },
     "metadata": {},
     "output_type": "display_data"
    }
   ],
   "source": [
    "# data\n",
    "data = read.csv(\"Comprehensive_Banking_Database.csv\")\n",
    "head(data)"
   ]
  },
  {
   "cell_type": "code",
   "execution_count": 17,
   "metadata": {
    "vscode": {
     "languageId": "r"
    }
   },
   "outputs": [
    {
     "data": {
      "text/html": [
       "<table class=\"dataframe\">\n",
       "<caption>A data.frame: 40 × 2</caption>\n",
       "<thead>\n",
       "\t<tr><th scope=col>variable</th><th scope=col>value</th></tr>\n",
       "\t<tr><th scope=col>&lt;chr&gt;</th><th scope=col>&lt;chr&gt;</th></tr>\n",
       "</thead>\n",
       "<tbody>\n",
       "\t<tr><td>Customer.ID                      </td><td>1                  </td></tr>\n",
       "\t<tr><td>First.Name                       </td><td>Joshua             </td></tr>\n",
       "\t<tr><td>Last.Name                        </td><td>Hall               </td></tr>\n",
       "\t<tr><td>Age                              </td><td>45                 </td></tr>\n",
       "\t<tr><td>Gender                           </td><td>Male               </td></tr>\n",
       "\t<tr><td>Address                          </td><td>Address_1          </td></tr>\n",
       "\t<tr><td>City                             </td><td>Fort Worth         </td></tr>\n",
       "\t<tr><td>Contact.Number                   </td><td>19458794854        </td></tr>\n",
       "\t<tr><td>Email                            </td><td>joshua.hall@kag.com</td></tr>\n",
       "\t<tr><td>Account.Type                     </td><td>Current            </td></tr>\n",
       "\t<tr><td>Account.Balance                  </td><td>1313.38            </td></tr>\n",
       "\t<tr><td>Date.Of.Account.Opening          </td><td>5/26/2006          </td></tr>\n",
       "\t<tr><td>Last.Transaction.Date            </td><td>4/23/2023          </td></tr>\n",
       "\t<tr><td>TransactionID                    </td><td>1                  </td></tr>\n",
       "\t<tr><td>Transaction.Date                 </td><td>12/7/2023          </td></tr>\n",
       "\t<tr><td>Transaction.Type                 </td><td>Withdrawal         </td></tr>\n",
       "\t<tr><td>Transaction.Amount               </td><td>1457.61            </td></tr>\n",
       "\t<tr><td>Account.Balance.After.Transaction</td><td>2770.99            </td></tr>\n",
       "\t<tr><td>Branch.ID                        </td><td>43                 </td></tr>\n",
       "\t<tr><td>Loan.ID                          </td><td>1                  </td></tr>\n",
       "\t<tr><td>Loan.Amount                      </td><td>32200.06           </td></tr>\n",
       "\t<tr><td>Loan.Type                        </td><td>Mortgage           </td></tr>\n",
       "\t<tr><td>Interest.Rate                    </td><td>2.64               </td></tr>\n",
       "\t<tr><td>Loan.Term                        </td><td>36                 </td></tr>\n",
       "\t<tr><td>Approval.Rejection.Date          </td><td>5/11/2021          </td></tr>\n",
       "\t<tr><td>Loan.Status                      </td><td>Rejected           </td></tr>\n",
       "\t<tr><td>CardID                           </td><td>1                  </td></tr>\n",
       "\t<tr><td>Card.Type                        </td><td>AMEX               </td></tr>\n",
       "\t<tr><td>Credit.Limit                     </td><td>1737.88            </td></tr>\n",
       "\t<tr><td>Credit.Card.Balance              </td><td>4524.32            </td></tr>\n",
       "\t<tr><td>Minimum.Payment.Due              </td><td>226.22             </td></tr>\n",
       "\t<tr><td>Payment.Due.Date                 </td><td>11/26/2023         </td></tr>\n",
       "\t<tr><td>Last.Credit.Card.Payment.Date    </td><td>3/20/2023          </td></tr>\n",
       "\t<tr><td>Rewards.Points                   </td><td>8142               </td></tr>\n",
       "\t<tr><td>Feedback.ID                      </td><td>1                  </td></tr>\n",
       "\t<tr><td>Feedback.Date                    </td><td>10/6/2023          </td></tr>\n",
       "\t<tr><td>Feedback.Type                    </td><td>Suggestion         </td></tr>\n",
       "\t<tr><td>Resolution.Status                </td><td>Resolved           </td></tr>\n",
       "\t<tr><td>Resolution.Date                  </td><td>1/22/2023          </td></tr>\n",
       "\t<tr><td>Anomaly                          </td><td>1                  </td></tr>\n",
       "</tbody>\n",
       "</table>\n"
      ],
      "text/latex": [
       "A data.frame: 40 × 2\n",
       "\\begin{tabular}{ll}\n",
       " variable & value\\\\\n",
       " <chr> & <chr>\\\\\n",
       "\\hline\n",
       "\t Customer.ID                       & 1                  \\\\\n",
       "\t First.Name                        & Joshua             \\\\\n",
       "\t Last.Name                         & Hall               \\\\\n",
       "\t Age                               & 45                 \\\\\n",
       "\t Gender                            & Male               \\\\\n",
       "\t Address                           & Address\\_1          \\\\\n",
       "\t City                              & Fort Worth         \\\\\n",
       "\t Contact.Number                    & 19458794854        \\\\\n",
       "\t Email                             & joshua.hall@kag.com\\\\\n",
       "\t Account.Type                      & Current            \\\\\n",
       "\t Account.Balance                   & 1313.38            \\\\\n",
       "\t Date.Of.Account.Opening           & 5/26/2006          \\\\\n",
       "\t Last.Transaction.Date             & 4/23/2023          \\\\\n",
       "\t TransactionID                     & 1                  \\\\\n",
       "\t Transaction.Date                  & 12/7/2023          \\\\\n",
       "\t Transaction.Type                  & Withdrawal         \\\\\n",
       "\t Transaction.Amount                & 1457.61            \\\\\n",
       "\t Account.Balance.After.Transaction & 2770.99            \\\\\n",
       "\t Branch.ID                         & 43                 \\\\\n",
       "\t Loan.ID                           & 1                  \\\\\n",
       "\t Loan.Amount                       & 32200.06           \\\\\n",
       "\t Loan.Type                         & Mortgage           \\\\\n",
       "\t Interest.Rate                     & 2.64               \\\\\n",
       "\t Loan.Term                         & 36                 \\\\\n",
       "\t Approval.Rejection.Date           & 5/11/2021          \\\\\n",
       "\t Loan.Status                       & Rejected           \\\\\n",
       "\t CardID                            & 1                  \\\\\n",
       "\t Card.Type                         & AMEX               \\\\\n",
       "\t Credit.Limit                      & 1737.88            \\\\\n",
       "\t Credit.Card.Balance               & 4524.32            \\\\\n",
       "\t Minimum.Payment.Due               & 226.22             \\\\\n",
       "\t Payment.Due.Date                  & 11/26/2023         \\\\\n",
       "\t Last.Credit.Card.Payment.Date     & 3/20/2023          \\\\\n",
       "\t Rewards.Points                    & 8142               \\\\\n",
       "\t Feedback.ID                       & 1                  \\\\\n",
       "\t Feedback.Date                     & 10/6/2023          \\\\\n",
       "\t Feedback.Type                     & Suggestion         \\\\\n",
       "\t Resolution.Status                 & Resolved           \\\\\n",
       "\t Resolution.Date                   & 1/22/2023          \\\\\n",
       "\t Anomaly                           & 1                  \\\\\n",
       "\\end{tabular}\n"
      ],
      "text/markdown": [
       "\n",
       "A data.frame: 40 × 2\n",
       "\n",
       "| variable &lt;chr&gt; | value &lt;chr&gt; |\n",
       "|---|---|\n",
       "| Customer.ID                       | 1                   |\n",
       "| First.Name                        | Joshua              |\n",
       "| Last.Name                         | Hall                |\n",
       "| Age                               | 45                  |\n",
       "| Gender                            | Male                |\n",
       "| Address                           | Address_1           |\n",
       "| City                              | Fort Worth          |\n",
       "| Contact.Number                    | 19458794854         |\n",
       "| Email                             | joshua.hall@kag.com |\n",
       "| Account.Type                      | Current             |\n",
       "| Account.Balance                   | 1313.38             |\n",
       "| Date.Of.Account.Opening           | 5/26/2006           |\n",
       "| Last.Transaction.Date             | 4/23/2023           |\n",
       "| TransactionID                     | 1                   |\n",
       "| Transaction.Date                  | 12/7/2023           |\n",
       "| Transaction.Type                  | Withdrawal          |\n",
       "| Transaction.Amount                | 1457.61             |\n",
       "| Account.Balance.After.Transaction | 2770.99             |\n",
       "| Branch.ID                         | 43                  |\n",
       "| Loan.ID                           | 1                   |\n",
       "| Loan.Amount                       | 32200.06            |\n",
       "| Loan.Type                         | Mortgage            |\n",
       "| Interest.Rate                     | 2.64                |\n",
       "| Loan.Term                         | 36                  |\n",
       "| Approval.Rejection.Date           | 5/11/2021           |\n",
       "| Loan.Status                       | Rejected            |\n",
       "| CardID                            | 1                   |\n",
       "| Card.Type                         | AMEX                |\n",
       "| Credit.Limit                      | 1737.88             |\n",
       "| Credit.Card.Balance               | 4524.32             |\n",
       "| Minimum.Payment.Due               | 226.22              |\n",
       "| Payment.Due.Date                  | 11/26/2023          |\n",
       "| Last.Credit.Card.Payment.Date     | 3/20/2023           |\n",
       "| Rewards.Points                    | 8142                |\n",
       "| Feedback.ID                       | 1                   |\n",
       "| Feedback.Date                     | 10/6/2023           |\n",
       "| Feedback.Type                     | Suggestion          |\n",
       "| Resolution.Status                 | Resolved            |\n",
       "| Resolution.Date                   | 1/22/2023           |\n",
       "| Anomaly                           | 1                   |\n",
       "\n"
      ],
      "text/plain": [
       "   variable                          value              \n",
       "1  Customer.ID                       1                  \n",
       "2  First.Name                        Joshua             \n",
       "3  Last.Name                         Hall               \n",
       "4  Age                               45                 \n",
       "5  Gender                            Male               \n",
       "6  Address                           Address_1          \n",
       "7  City                              Fort Worth         \n",
       "8  Contact.Number                    19458794854        \n",
       "9  Email                             joshua.hall@kag.com\n",
       "10 Account.Type                      Current            \n",
       "11 Account.Balance                   1313.38            \n",
       "12 Date.Of.Account.Opening           5/26/2006          \n",
       "13 Last.Transaction.Date             4/23/2023          \n",
       "14 TransactionID                     1                  \n",
       "15 Transaction.Date                  12/7/2023          \n",
       "16 Transaction.Type                  Withdrawal         \n",
       "17 Transaction.Amount                1457.61            \n",
       "18 Account.Balance.After.Transaction 2770.99            \n",
       "19 Branch.ID                         43                 \n",
       "20 Loan.ID                           1                  \n",
       "21 Loan.Amount                       32200.06           \n",
       "22 Loan.Type                         Mortgage           \n",
       "23 Interest.Rate                     2.64               \n",
       "24 Loan.Term                         36                 \n",
       "25 Approval.Rejection.Date           5/11/2021          \n",
       "26 Loan.Status                       Rejected           \n",
       "27 CardID                            1                  \n",
       "28 Card.Type                         AMEX               \n",
       "29 Credit.Limit                      1737.88            \n",
       "30 Credit.Card.Balance               4524.32            \n",
       "31 Minimum.Payment.Due               226.22             \n",
       "32 Payment.Due.Date                  11/26/2023         \n",
       "33 Last.Credit.Card.Payment.Date     3/20/2023          \n",
       "34 Rewards.Points                    8142               \n",
       "35 Feedback.ID                       1                  \n",
       "36 Feedback.Date                     10/6/2023          \n",
       "37 Feedback.Type                     Suggestion         \n",
       "38 Resolution.Status                 Resolved           \n",
       "39 Resolution.Date                   1/22/2023          \n",
       "40 Anomaly                           1                  "
      ]
     },
     "metadata": {},
     "output_type": "display_data"
    }
   ],
   "source": [
    "# firt row in long format\n",
    "data[1,] %>% gather(key = \"variable\", value = \"value\") %>% filter(!is.na(value))"
   ]
  },
  {
   "cell_type": "code",
   "execution_count": null,
   "metadata": {
    "vscode": {
     "languageId": "r"
    }
   },
   "outputs": [],
   "source": [
    "# processing \n",
    "data$Transaction.Date = as.Date(data$Transaction.Date, format = \"%m/%d/%Y\")\n",
    "data$Transaction.EOM = as.Date(paste0(format(data$Transaction.Date, \"%Y-%m\"), \"-01\")) + months(1) - days(1)\n"
   ]
  },
  {
   "cell_type": "code",
   "execution_count": 71,
   "metadata": {
    "vscode": {
     "languageId": "r"
    }
   },
   "outputs": [
    {
     "data": {
      "text/html": [
       "<style>\n",
       ".list-inline {list-style: none; margin:0; padding: 0}\n",
       ".list-inline>li {display: inline-block}\n",
       ".list-inline>li:not(:last-child)::after {content: \"\\00b7\"; padding: 0 .5ex}\n",
       "</style>\n",
       "<ol class=list-inline><li>'Current'</li><li>'Savings'</li></ol>\n"
      ],
      "text/latex": [
       "\\begin{enumerate*}\n",
       "\\item 'Current'\n",
       "\\item 'Savings'\n",
       "\\end{enumerate*}\n"
      ],
      "text/markdown": [
       "1. 'Current'\n",
       "2. 'Savings'\n",
       "\n",
       "\n"
      ],
      "text/plain": [
       "[1] \"Current\" \"Savings\""
      ]
     },
     "metadata": {},
     "output_type": "display_data"
    }
   ],
   "source": [
    "unique(data$Account.Type)"
   ]
  },
  {
   "cell_type": "code",
   "execution_count": 81,
   "metadata": {
    "vscode": {
     "languageId": "r"
    }
   },
   "outputs": [
    {
     "data": {
      "text/html": [
       "'character'"
      ],
      "text/latex": [
       "'character'"
      ],
      "text/markdown": [
       "'character'"
      ],
      "text/plain": [
       "[1] \"character\""
      ]
     },
     "metadata": {},
     "output_type": "display_data"
    }
   ],
   "source": [
    "class(unique(data$Account.Type))"
   ]
  },
  {
   "cell_type": "code",
   "execution_count": 72,
   "metadata": {
    "vscode": {
     "languageId": "r"
    }
   },
   "outputs": [
    {
     "data": {
      "text/html": [
       "<style>\n",
       ".list-inline {list-style: none; margin:0; padding: 0}\n",
       ".list-inline>li {display: inline-block}\n",
       ".list-inline>li:not(:last-child)::after {content: \"\\00b7\"; padding: 0 .5ex}\n",
       "</style>\n",
       "<ol class=list-inline><li><time datetime=\"2023-12-31\">2023-12-31</time></li><li><time datetime=\"2023-04-30\">2023-04-30</time></li><li><time datetime=\"2023-07-31\">2023-07-31</time></li><li><time datetime=\"2023-01-31\">2023-01-31</time></li><li><time datetime=\"2023-11-30\">2023-11-30</time></li><li><time datetime=\"2023-08-31\">2023-08-31</time></li><li><time datetime=\"2023-09-30\">2023-09-30</time></li><li><time datetime=\"2023-06-30\">2023-06-30</time></li><li><time datetime=\"2023-10-31\">2023-10-31</time></li><li><time datetime=\"2023-02-28\">2023-02-28</time></li><li><time datetime=\"2023-05-31\">2023-05-31</time></li><li><time datetime=\"2023-03-31\">2023-03-31</time></li></ol>\n"
      ],
      "text/latex": [
       "\\begin{enumerate*}\n",
       "\\item 2023-12-31\n",
       "\\item 2023-04-30\n",
       "\\item 2023-07-31\n",
       "\\item 2023-01-31\n",
       "\\item 2023-11-30\n",
       "\\item 2023-08-31\n",
       "\\item 2023-09-30\n",
       "\\item 2023-06-30\n",
       "\\item 2023-10-31\n",
       "\\item 2023-02-28\n",
       "\\item 2023-05-31\n",
       "\\item 2023-03-31\n",
       "\\end{enumerate*}\n"
      ],
      "text/markdown": [
       "1. 2023-12-31\n",
       "2. 2023-04-30\n",
       "3. 2023-07-31\n",
       "4. 2023-01-31\n",
       "5. 2023-11-30\n",
       "6. 2023-08-31\n",
       "7. 2023-09-30\n",
       "8. 2023-06-30\n",
       "9. 2023-10-31\n",
       "10. 2023-02-28\n",
       "11. 2023-05-31\n",
       "12. 2023-03-31\n",
       "\n",
       "\n"
      ],
      "text/plain": [
       " [1] \"2023-12-31\" \"2023-04-30\" \"2023-07-31\" \"2023-01-31\" \"2023-11-30\"\n",
       " [6] \"2023-08-31\" \"2023-09-30\" \"2023-06-30\" \"2023-10-31\" \"2023-02-28\"\n",
       "[11] \"2023-05-31\" \"2023-03-31\""
      ]
     },
     "metadata": {},
     "output_type": "display_data"
    }
   ],
   "source": [
    "unique(data$Transaction.EOM)"
   ]
  },
  {
   "cell_type": "code",
   "execution_count": 85,
   "metadata": {
    "vscode": {
     "languageId": "r"
    }
   },
   "outputs": [
    {
     "data": {
      "text/html": [
       "<style>\n",
       ".list-inline {list-style: none; margin:0; padding: 0}\n",
       ".list-inline>li {display: inline-block}\n",
       ".list-inline>li:not(:last-child)::after {content: \"\\00b7\"; padding: 0 .5ex}\n",
       "</style>\n",
       "<ol class=list-inline><li>'2023-01-31'</li><li>'2023-02-28'</li><li>'2023-03-31'</li><li>'2023-04-30'</li><li>'2023-05-31'</li><li>'2023-06-30'</li><li>'2023-07-31'</li><li>'2023-08-31'</li><li>'2023-09-30'</li><li>'2023-10-31'</li><li>'2023-11-30'</li><li>'2023-12-31'</li></ol>\n"
      ],
      "text/latex": [
       "\\begin{enumerate*}\n",
       "\\item '2023-01-31'\n",
       "\\item '2023-02-28'\n",
       "\\item '2023-03-31'\n",
       "\\item '2023-04-30'\n",
       "\\item '2023-05-31'\n",
       "\\item '2023-06-30'\n",
       "\\item '2023-07-31'\n",
       "\\item '2023-08-31'\n",
       "\\item '2023-09-30'\n",
       "\\item '2023-10-31'\n",
       "\\item '2023-11-30'\n",
       "\\item '2023-12-31'\n",
       "\\end{enumerate*}\n"
      ],
      "text/markdown": [
       "1. '2023-01-31'\n",
       "2. '2023-02-28'\n",
       "3. '2023-03-31'\n",
       "4. '2023-04-30'\n",
       "5. '2023-05-31'\n",
       "6. '2023-06-30'\n",
       "7. '2023-07-31'\n",
       "8. '2023-08-31'\n",
       "9. '2023-09-30'\n",
       "10. '2023-10-31'\n",
       "11. '2023-11-30'\n",
       "12. '2023-12-31'\n",
       "\n",
       "\n"
      ],
      "text/plain": [
       " [1] \"2023-01-31\" \"2023-02-28\" \"2023-03-31\" \"2023-04-30\" \"2023-05-31\"\n",
       " [6] \"2023-06-30\" \"2023-07-31\" \"2023-08-31\" \"2023-09-30\" \"2023-10-31\"\n",
       "[11] \"2023-11-30\" \"2023-12-31\""
      ]
     },
     "metadata": {},
     "output_type": "display_data"
    }
   ],
   "source": [
    "as.character(sort(unique(data$Transaction.EOM)))"
   ]
  },
  {
   "cell_type": "code",
   "execution_count": 73,
   "metadata": {
    "vscode": {
     "languageId": "r"
    }
   },
   "outputs": [
    {
     "data": {
      "text/html": [
       "<style>\n",
       ".list-inline {list-style: none; margin:0; padding: 0}\n",
       ".list-inline>li {display: inline-block}\n",
       ".list-inline>li:not(:last-child)::after {content: \"\\00b7\"; padding: 0 .5ex}\n",
       "</style>\n",
       "<ol class=list-inline><li>'Withdrawal'</li><li>'Deposit'</li><li>'Transfer'</li></ol>\n"
      ],
      "text/latex": [
       "\\begin{enumerate*}\n",
       "\\item 'Withdrawal'\n",
       "\\item 'Deposit'\n",
       "\\item 'Transfer'\n",
       "\\end{enumerate*}\n"
      ],
      "text/markdown": [
       "1. 'Withdrawal'\n",
       "2. 'Deposit'\n",
       "3. 'Transfer'\n",
       "\n",
       "\n"
      ],
      "text/plain": [
       "[1] \"Withdrawal\" \"Deposit\"    \"Transfer\"  "
      ]
     },
     "metadata": {},
     "output_type": "display_data"
    }
   ],
   "source": [
    "unique(data$Transaction.Type)"
   ]
  },
  {
   "cell_type": "code",
   "execution_count": 75,
   "metadata": {
    "vscode": {
     "languageId": "r"
    }
   },
   "outputs": [
    {
     "name": "stdout",
     "output_type": "stream",
     "text": [
      "[1] 2491\n"
     ]
    }
   ],
   "source": [
    "# filtering \n",
    "Account.Type = \"Savings\"\n",
    "Transaction.EOM.min = \"2023-07-31\"\n",
    "Transaction.EOM.max = \"2023-12-31\"\n",
    "Transaction.Type = \"Deposit\"\n",
    "\n",
    "data_filtered = data %>% filter(Account.Type == Account.Type, \n",
    "                                Transaction.EOM >= Transaction.EOM.min, \n",
    "                                Transaction.EOM <= Transaction.EOM.max, \n",
    "                                Transaction.Type == Transaction.Type)\n",
    "print(nrow(data_filtered)) "
   ]
  },
  {
   "cell_type": "code",
   "execution_count": 77,
   "metadata": {
    "vscode": {
     "languageId": "r"
    }
   },
   "outputs": [
    {
     "data": {
      "text/html": [
       "<table class=\"dataframe\">\n",
       "<caption>A tibble: 6 × 5</caption>\n",
       "<thead>\n",
       "\t<tr><th scope=col>Transaction.EOM</th><th scope=col>distinct_customers</th><th scope=col>total_transactions</th><th scope=col>total_amount</th><th scope=col>pct</th></tr>\n",
       "\t<tr><th scope=col>&lt;date&gt;</th><th scope=col>&lt;int&gt;</th><th scope=col>&lt;int&gt;</th><th scope=col>&lt;dbl&gt;</th><th scope=col>&lt;dbl&gt;</th></tr>\n",
       "</thead>\n",
       "<tbody>\n",
       "\t<tr><td>2023-07-31</td><td>443</td><td>443</td><td>1141756.7</td><td>0.3205418</td></tr>\n",
       "\t<tr><td>2023-08-31</td><td>440</td><td>440</td><td>1133316.6</td><td>0.3454545</td></tr>\n",
       "\t<tr><td>2023-09-30</td><td>399</td><td>399</td><td> 973266.1</td><td>0.3358396</td></tr>\n",
       "\t<tr><td>2023-10-31</td><td>403</td><td>403</td><td>1022035.6</td><td>0.3870968</td></tr>\n",
       "\t<tr><td>2023-11-30</td><td>379</td><td>379</td><td> 987718.6</td><td>0.3034301</td></tr>\n",
       "\t<tr><td>2023-12-31</td><td>427</td><td>427</td><td>1021510.5</td><td>0.3208431</td></tr>\n",
       "</tbody>\n",
       "</table>\n"
      ],
      "text/latex": [
       "A tibble: 6 × 5\n",
       "\\begin{tabular}{lllll}\n",
       " Transaction.EOM & distinct\\_customers & total\\_transactions & total\\_amount & pct\\\\\n",
       " <date> & <int> & <int> & <dbl> & <dbl>\\\\\n",
       "\\hline\n",
       "\t 2023-07-31 & 443 & 443 & 1141756.7 & 0.3205418\\\\\n",
       "\t 2023-08-31 & 440 & 440 & 1133316.6 & 0.3454545\\\\\n",
       "\t 2023-09-30 & 399 & 399 &  973266.1 & 0.3358396\\\\\n",
       "\t 2023-10-31 & 403 & 403 & 1022035.6 & 0.3870968\\\\\n",
       "\t 2023-11-30 & 379 & 379 &  987718.6 & 0.3034301\\\\\n",
       "\t 2023-12-31 & 427 & 427 & 1021510.5 & 0.3208431\\\\\n",
       "\\end{tabular}\n"
      ],
      "text/markdown": [
       "\n",
       "A tibble: 6 × 5\n",
       "\n",
       "| Transaction.EOM &lt;date&gt; | distinct_customers &lt;int&gt; | total_transactions &lt;int&gt; | total_amount &lt;dbl&gt; | pct &lt;dbl&gt; |\n",
       "|---|---|---|---|---|\n",
       "| 2023-07-31 | 443 | 443 | 1141756.7 | 0.3205418 |\n",
       "| 2023-08-31 | 440 | 440 | 1133316.6 | 0.3454545 |\n",
       "| 2023-09-30 | 399 | 399 |  973266.1 | 0.3358396 |\n",
       "| 2023-10-31 | 403 | 403 | 1022035.6 | 0.3870968 |\n",
       "| 2023-11-30 | 379 | 379 |  987718.6 | 0.3034301 |\n",
       "| 2023-12-31 | 427 | 427 | 1021510.5 | 0.3208431 |\n",
       "\n"
      ],
      "text/plain": [
       "  Transaction.EOM distinct_customers total_transactions total_amount pct      \n",
       "1 2023-07-31      443                443                1141756.7    0.3205418\n",
       "2 2023-08-31      440                440                1133316.6    0.3454545\n",
       "3 2023-09-30      399                399                 973266.1    0.3358396\n",
       "4 2023-10-31      403                403                1022035.6    0.3870968\n",
       "5 2023-11-30      379                379                 987718.6    0.3034301\n",
       "6 2023-12-31      427                427                1021510.5    0.3208431"
      ]
     },
     "metadata": {},
     "output_type": "display_data"
    }
   ],
   "source": [
    "# sub data\n",
    "a_ts = data_filtered %>% \n",
    "    group_by(Transaction.EOM) %>%\n",
    "    summarise(\n",
    "        distinct_customers = n_distinct(Customer.ID),\n",
    "        total_transactions = n(),\n",
    "        total_amount = sum(Transaction.Amount),\n",
    "        pct = sum(Loan.Status == \"Rejected\") / n()\n",
    "    )\n",
    "a_ts"
   ]
  },
  {
   "cell_type": "code",
   "execution_count": 80,
   "metadata": {
    "vscode": {
     "languageId": "r"
    }
   },
   "outputs": [
    {
     "data": {
      "image/png": "[encoded data removed]",
      "text/plain": [
       "plot without title"
      ]
     },
     "metadata": {
      "image/png": {
       "height": 420,
       "width": 420
      }
     },
     "output_type": "display_data"
    }
   ],
   "source": [
    "# plot count\n",
    "a_ts %>% \n",
    "    ggplot(aes(x = Transaction.EOM, y = total_transactions)) +\n",
    "    geom_bar(stat = \"identity\") +\n",
    "    theme_minimal() +\n",
    "    theme(axis.text.x = element_text(angle = 45, hjust = 1))"
   ]
  },
  {
   "cell_type": "code",
   "execution_count": null,
   "metadata": {
    "vscode": {
     "languageId": "r"
    }
   },
   "outputs": [
    {
     "data": {
      "image/png": "[encoded data removed]",
      "text/plain": [
       "plot without title"
      ]
     },
     "metadata": {},
     "output_type": "display_data"
    }
   ],
   "source": [
    "# plot volume\n",
    "a_ts %>% \n",
    "    ggplot(aes(x = Transaction.EOM, y = total_amount)) +\n",
    "    geom_bar(stat = \"identity\") +\n",
    "    theme_minimal() +\n",
    "    theme(axis.text.x = element_text(angle = 45, hjust = 1))"
   ]
  },
  {
   "cell_type": "code",
   "execution_count": null,
   "metadata": {
    "vscode": {
     "languageId": "r"
    }
   },
   "outputs": [
    {
     "data": {
      "image/png": "[encoded data removed]",
      "text/plain": [
       "plot without title"
      ]
     },
     "metadata": {
      "image/png": {
       "height": 420,
       "width": 420
      }
     },
     "output_type": "display_data"
    }
   ],
   "source": [
    "# plot rate \n",
    "a_ts %>% \n",
    "    ggplot(aes(x = Transaction.EOM, y = pct)) +\n",
    "    geom_line() +\n",
    "    theme_minimal() +\n",
    "    theme(axis.text.x = element_text(angle = 45, hjust = 1))"
   ]
  },
  {
   "cell_type": "code",
   "execution_count": null,
   "metadata": {
    "vscode": {
     "languageId": "r"
    }
   },
   "outputs": [],
   "source": []
  },
  {
   "cell_type": "code",
   "execution_count": null,
   "metadata": {
    "vscode": {
     "languageId": "r"
    }
   },
   "outputs": [],
   "source": []
  },
  {
   "cell_type": "code",
   "execution_count": null,
   "metadata": {
    "vscode": {
     "languageId": "r"
    }
   },
   "outputs": [],
   "source": []
  },
  {
   "cell_type": "code",
   "execution_count": null,
   "metadata": {
    "vscode": {
     "languageId": "r"
    }
   },
   "outputs": [],
   "source": []
  },
  {
   "cell_type": "code",
   "execution_count": null,
   "metadata": {
    "vscode": {
     "languageId": "r"
    }
   },
   "outputs": [],
   "source": []
  }
 ],
 "metadata": {
  "kernelspec": {
   "display_name": "R",
   "language": "R",
   "name": "ir"
  },
  "language_info": {
   "codemirror_mode": "r",
   "file_extension": ".r",
   "mimetype": "text/x-r-source",
   "name": "R",
   "pygments_lexer": "r",
   "version": "4.3.2"
  }
 },
 "nbformat": 4,
 "nbformat_minor": 2
}
